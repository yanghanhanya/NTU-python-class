{
 "cells": [
  {
   "cell_type": "code",
   "execution_count": 10,
   "metadata": {},
   "outputs": [
    {
     "name": "stdout",
     "output_type": "stream",
     "text": [
      "<!DOCTYPE html>\n",
      "<html>\n",
      "<head>\n",
      "\t<title>Pardon Our Interruption</title>\n",
      "\t<link rel=\"stylesheet\" type=\"text/css\" href=\"//cdn.distilnetworks.com/css/distil.css\" media=\"all\">\n",
      "\t<meta http-equiv=\"content-type\" content=\"text/html; charset=UTF-8\" />\n",
      "\t<meta name=\"viewport\" content=\"width=1000\" />\n",
      "\t<META NAME=\"robots\" CONTENT=\"noindex, nofollow\">\n",
      "\t<meta http-equiv=\"cache-control\" content=\"max-age=0\" />\n",
      "\t<meta http-equiv=\"cache-control\" content=\"no-cache\" />\n",
      "\t<meta http-equiv=\"expires\" content=\"0\" />\n",
      "\t<meta http-equiv=\"expires\" content=\"Tue, 01 Jan 1980 1:00:00 GMT\" />\n",
      "\t<meta http-equiv=\"pragma\" content=\"no-cache\" />\n",
      "<script type=\"text/javascript\" src=\"/tgrairwaysdstl.js\" defer></script><style type=\"text/css\">#d__fFH{position:absolute;top:-5000px;left:-5000px}#d__fF{font-family:serif;font-size:200px;visibility:hidden}#cfcxdbattebszfeeswyw{display:none!important}</style></head>\n",
      "\t\n",
      "<body class='block-page'>\n",
      "\t<div class='container'>\n",
      "\t\t<div class='row'>\n",
      "\t\t\t<div class='sidebar col-lg-4 col-sm-5'>\n",
      "\t\t\t\t<img src=\"//cdn.distilnetworks.com/images/anomaly-detected.png\" alt=\"0\">\n",
      "\t\t\t</div>\n",
      "\t\t\t<div class='content col-lg-8 col-sm-7'>\n",
      "\t\t\t\t<h1>Pardon Our Interruption...</h1>\n",
      "\t\t\t\t<p>\n",
      "\t\t\t\t\tAs you were browsing <strong>makeabooking.flyscoot.com</strong> something about your browser made us think you were a bot. There are a few reasons this might happen:\n",
      "\t\t\t\t</p>\n",
      "\t\t\t\t<ul>\n",
      "\t\t\t\t\t<li>You're a power user moving through this website with super-human speed.</li>\n",
      "\t\t\t\t\t<li>You've disabled JavaScript in your web browser.</li>\n",
      "\t\t\t\t\t<li>A third-party browser plugin, such as Ghostery or NoScript, is preventing JavaScript from running. Additional information is available in this <a title='Third party browser plugins that block javascript' href='http://ds.tl/help-third-party-plugins' target='_blank'>support article</a>.</li>\n",
      "\t\t\t\t</ul>\n",
      "\n",
      "\t\t\t\t<p>After completing the CAPTCHA below, you will immediately regain access to makeabooking.flyscoot.com.</p>\n",
      "\n",
      "\t\t\t\t            <script type=\"text/javascript\">\n",
      "                var distilCallbackGuard = function(callbackName) {\n",
      "                    return function() {\n",
      "                        if (typeof(window[callbackName]) === 'function') {\n",
      "                            return window[callbackName].apply(null, arguments)\n",
      "                        } else {\n",
      "                            document.getElementById('dCF_input_complete').style.display = 'inline'\n",
      "                        }\n",
      "                    }\n",
      "                }\n",
      "            </script>\n",
      "            <script type=\"text/javascript\" src=\"/distil_r_captcha.util.js\"></script>\n",
      "            <form id=\"distilCaptchaForm\" class=\"funcaptcha\" action=\"/distil_r_captcha.html?requestId=a49a3f8f-9bc4-4c57-aeb8-2b0c47106414&httpReferrer=%2FBook%2FFlight\" method=\"post\">\n",
      "                            <div id=\"funcaptcha\"></div>\n",
      "                    <noscript>\n",
      "                    <iframe src=\"https://funcaptcha.com/fc/api/nojs/?pkey=50BED048-DC89-91C1-BBCF-A6B02F1DE2A9\" frameborder=\"0\" scrolling=\"no\" style=\"width: 308px; height:408px; border-style: none;\"></iframe>\n",
      "                    <div style=\"width: 306px;height: 60px;border-style: none;bottom: 12px;left: 25px;margin: 5px 0 0 0;padding: 0px;right: 25px;background: #ffffff;border: 1px solid #f7f7f7;border-radius: 5px;\">\n",
      "                            <input type=\"text\" id=\"fc-token\" name=\"fc-token\" placeholder=\"Copy verification code into here\" style=\"width: 270px;height: 24px;border: 1px solid #f7f7f7;border-radius: 5px;padding: 10px;margin: 7px;resize: none;font-size: 11px;-webkit-font-smoothing: antialiased;color: #212121;background: #f7f7f7;text-align: center;\">\n",
      "                    </div>\n",
      "                    </noscript>\n",
      "                    <script src=\"https://funcaptcha.com/fc/api/?onload=loadFunCaptcha\" async defer></script>\n",
      "                    <script type=\"text/javascript\">\n",
      "                        function loadFunCaptcha(){\n",
      "                            new FunCaptcha({\n",
      "                                public_key: \"50BED048-DC89-91C1-BBCF-A6B02F1DE2A9\",\n",
      "                                callback: distilCallbackGuard(\"distilCaptchaDoneCallback\")\n",
      "                            })\n",
      "                        }\n",
      "                    </script>\n",
      "                            <div id=\"dCF_complete\">\n",
      "                    <input  id=\"dCF_input_complete\" type=\"submit\" value=\"Complete Captcha\" />\n",
      "                </div>\n",
      "                <div id=\"dCF_captcha_text\">\n",
      "                    You reached this page when attempting to access https://makeabooking.flyscoot.com/Book/Flight from 118.167.155.241 on 2018-08-18 04:18:02 UTC.<br />\n",
      "                    Trace: a49a3f8f-9bc4-4c57-aeb8-2b0c47106414 via bbe4ffd9-04f7-4ef4-9f90-cc5138aea70d\n",
      "                </div>\n",
      "            </form>\n",
      "        \n",
      "\n",
      "\t\t\t</div>\n",
      "\t\t</div>\n",
      "\t</div>\n",
      "</body>\n",
      "\n",
      "</html>\n",
      "\n"
     ]
    }
   ],
   "source": [
    "import requests\n",
    "from bs4 import BeautifulSoup as bs\n",
    "payload={\"revAvailabilitySearch.SearchInfo.Direction\":' Return'\n",
    "\"revAvailabilitySearch.SearchInfo.SearchStations[0].DepartureStationCode\":\" TPE\"\n",
    "\"revAvailabilitySearch.SearchInfo.SearchStations[0].ArrivalStationCode\":\"NRT\"\n",
    "\"revAvailabilitySearch.SearchInfo.SearchStations[0].DepartureDate\":\"09/10/2018\"\n",
    "\"revAvailabilitySearch.SearchInfo.SearchStations[1].DepartureDate\":\"09/15/2018\"\n",
    "\"revAvailabilitySearch.SearchInfo.AdultCount\":\"1\"\n",
    "\"revAvailabilitySearch.SearchInfo.ChildrenCount\":\"0\"\n",
    "\"revAvailabilitySearch.SearchInfo.InfantCount\":\"0\"\n",
    "\"revAvailabilitySearch.SearchInfo.PromoCode\":\"\n",
    "}\n",
    "\n",
    "rs=requests.session()\n",
    "res=rs.post(\"https://www.china-airlines.com/tw/zh\",data=payload)\n",
    "res2=rs.get(\"https://makeabooking.flyscoot.com/Book/Flight\")\n",
    "#soup =bs(res2.text)\n",
    "#for span in soup.select(\".calendar-bar-container span\")\n",
    "    #print(span)\n",
    "\n",
    "print (res2.text)"
   ]
  },
  {
   "cell_type": "code",
   "execution_count": 11,
   "metadata": {},
   "outputs": [
    {
     "data": {
      "text/plain": [
       "<Response [405]>"
      ]
     },
     "execution_count": 11,
     "metadata": {},
     "output_type": "execute_result"
    }
   ],
   "source": [
    "res2"
   ]
  },
  {
   "cell_type": "code",
   "execution_count": null,
   "metadata": {
    "collapsed": true
   },
   "outputs": [],
   "source": []
  }
 ],
 "metadata": {
  "kernelspec": {
   "display_name": "Python 3",
   "language": "python",
   "name": "python3"
  },
  "language_info": {
   "codemirror_mode": {
    "name": "ipython",
    "version": 3
   },
   "file_extension": ".py",
   "mimetype": "text/x-python",
   "name": "python",
   "nbconvert_exporter": "python",
   "pygments_lexer": "ipython3",
   "version": "3.6.3"
  }
 },
 "nbformat": 4,
 "nbformat_minor": 2
}
