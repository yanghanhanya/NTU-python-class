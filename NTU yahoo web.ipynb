{
 "cells": [
  {
   "cell_type": "code",
   "execution_count": 1,
   "metadata": {
    "collapsed": true
   },
   "outputs": [],
   "source": [
    "import requests\n",
    "from pyquery import PyQuery as pq"
   ]
  },
  {
   "cell_type": "code",
   "execution_count": 24,
   "metadata": {
    "collapsed": true
   },
   "outputs": [],
   "source": [
    "def index_page(index_url):\n",
    "    res=requests.get(index_url) #傳入的網站變靜態網址\n",
    "    res.encoding=\"big5\" #轉成繁體中文\n",
    "    doc=pq(res.text) #用pq 把網頁內容放進來存到doc\n",
    "    doc.make_links_absolute(base_url=res.url)\n",
    "    for eachLv1Doc in doc(\".content .site-list\").items():\n",
    "        lv1_page(eachLv1Doc(\"a\").attr(\"href\"))\n",
    "        \n",
    "        "
   ]
  },
  {
   "cell_type": "code",
   "execution_count": 31,
   "metadata": {},
   "outputs": [
    {
     "ename": "SyntaxError",
     "evalue": "invalid syntax (<ipython-input-31-e786513ef737>, line 10)",
     "output_type": "error",
     "traceback": [
      "\u001b[0;36m  File \u001b[0;32m\"<ipython-input-31-e786513ef737>\"\u001b[0;36m, line \u001b[0;32m10\u001b[0m\n\u001b[0;31m    print eachLv2Doc(\"a\").attr(\"href\")\u001b[0m\n\u001b[0m                   ^\u001b[0m\n\u001b[0;31mSyntaxError\u001b[0m\u001b[0;31m:\u001b[0m invalid syntax\n"
     ]
    }
   ],
   "source": [
    "def lv1_page(url):\n",
    "    lv1Doc=pq(eachLv1Doc(\"a\").attr(\"href\")) #把大類別的連結都找出來\n",
    "    doc.make_links_absolute()\n",
    "    if \"活動\" in lv1Doc(\"#cl-menucate .sitelist:nth-child(1) .stitle\").text():\n",
    "            #print(lv1Doc(\"#cl-menucate .sitelist:nth-child(n+2) .list\").text())    #選擇器會從第二個開始擷取\n",
    "        for eachLv2Doc in lv1Doc(\"#cl-menucate .sitelist:nth-child(n+2) .list\").items():\n",
    "            print (eachLv2Doc(\"a\").attr(\"href\"))\n",
    "    else:\n",
    "        for eachLv2Doc in lv1Doc(\"#cl-menucate .sitelist .list\").items():\n",
    "            print eachLv2Doc(\"a\").attr(\"href\")\n",
    "            \n",
    "     #判斷中類別裡面的字是不是活動 否則刪掉"
   ]
  },
  {
   "cell_type": "code",
   "execution_count": 26,
   "metadata": {
    "collapsed": true
   },
   "outputs": [],
   "source": [
    "def lv2_page(url):\n",
    "    lv2Doc = pq(url)"
   ]
  },
  {
   "cell_type": "code",
   "execution_count": 23,
   "metadata": {},
   "outputs": [
    {
     "ename": "NameError",
     "evalue": "name 'index_page' is not defined",
     "output_type": "error",
     "traceback": [
      "\u001b[0;31m---------------------------------------------------------------------------\u001b[0m",
      "\u001b[0;31mNameError\u001b[0m                                 Traceback (most recent call last)",
      "\u001b[0;32m<ipython-input-23-87d10d86408f>\u001b[0m in \u001b[0;36m<module>\u001b[0;34m()\u001b[0m\n\u001b[0;32m----> 1\u001b[0;31m \u001b[0mindex_page\u001b[0m\u001b[0;34m(\u001b[0m\u001b[0;34m\"https://tw.buy.yahoo.com/help/helper.asp?p=sitemap\"\u001b[0m\u001b[0;34m)\u001b[0m \u001b[0;31m#呼叫函示 把網頁放進來\u001b[0m\u001b[0;34m\u001b[0m\u001b[0m\n\u001b[0m",
      "\u001b[0;31mNameError\u001b[0m: name 'index_page' is not defined"
     ]
    }
   ],
   "source": [
    "index_page(\"https://tw.buy.yahoo.com/help/helper.asp?p=sitemap\") #呼叫函示 把網頁放進來\n"
   ]
  },
  {
   "cell_type": "code",
   "execution_count": 22,
   "metadata": {},
   "outputs": [
    {
     "name": "stdout",
     "output_type": "stream",
     "text": [
      "網紅親子裝 卡通聯名系列 瘋玩文創系列 部落客設計款 春夏熱銷 上衣 洋裝 外套 Bois White AH dream夢想女孩 維拉森林 M2M 4inSTYLE形設計 設計所在 DABI WHATDAY 理子時尚 Candybox糖罐子暢貨區 CiAO!妞暢貨區 N.C21 正韓暢貨區 ROANN暢貨專區 TOFFEE暢貨區 TATA 暢貨區 WHALE JEANS暢貨中心 101原創暢貨區 大尺碼暢貨區 古著暢貨區 名模衣櫃暢貨區 東京著衣 暢貨區 理優 暢貨區 AIR SPACE tokichoi 東京著衣 TATA Candybox 糖罐子 LIYO理優 100% Korea Jeans a9 AIRKOREA正韓空運 EI shuddai N.C21正韓 Q-chic W BABIES A PLUS Andstyle Ballet Dolly LIYO理優 La Belleza NUMI SISTERS 古著 初色 玩美衣櫃 糖潮 101原創 100% Korea Jeans 4inSTYLE形設計 5B2F五餅二魚機能服飾 ABELLA 艾貝拉 ALLK a9 a la mode 艾拉摩兒 Andstyle AIRKOREA正韓空運 LIYO理優 WAVE SHINE ALICAI 艾麗彩 Ballet Dolly Candybox 糖罐子 CACO-SHESTER55 CiAO!妞 DABI EI shuddai FQ時尚天后 Keer KODZ Kugi Girl La Belleza M2M Mini嚴選 N.C21正韓 N2 NUMI OMUSES OOTD Q-chic ROANN REKO SISTERS SZ TAKODA tokichoi 東京著衣 TATA WHALE JEANS WHATDAY W BABIES yoco 白色戀人 古著 初色 玩美衣櫃 設計所在 維拉森林 理子時尚 糖潮 天使波堤 摩達客ModaCore\n",
      "YVONNE COLLECTION 春夏新品 iK 吳日云 織本主義 PRAXES CHARINYEH 葉珈伶 Everysum+ 造型上衣 外套風衣 禮服洋裝 特色裙子 百搭褲裝 飾品配件 TOP GIRL暢貨區 iK 暢貨區 JESSICA 暢貨區 AMERICAN HOLIC betty's 貝蒂思 Betty Boop 貝蒂 CANTWO CHICA earth music&ecology E hyphen world gallery H:CONNECT LOWRYS FARM EPISODE chaber巧帛 DEER.W ICHE 衣哲 IGD 英格麗 SO NICE 獨身貴族 JESSICA JESSICA RED INTIMATUS MON'S Begonia 伊蕾 麥雪爾 MYVEGA 衣蝶YIDIE Hedy 赫蒂\n",
      "國家地理頻道/GFun暢貨中心 CACO Christian DITION帝軒 Dreamming FASHION館 Monkey Shop ROUSH ZIP日本男裝 可樂思 BuyGlasses麗綺 美國熊 摩達客 極品西服 短袖POLO衫 長袖POLO衫 短袖襯衫 長袖襯衫 商務單品 V領T恤 圓領T恤 背心T恤 其他 V領T恤 圓領T恤 連帽T恤 其他 V領針織衫/毛衣 圓領 高領 背心 其他 西裝外套 風衣 羊毛/毛呢大衣 棒球外套/飛行外套 舖棉外套 羽絨外套 背心外套 連帽外套 皮衣外套 其他 棉褲 休閒褲 工作褲 縮口褲 西裝褲 牛仔褲 棉褲 海灘褲 休閒褲 工作褲 牛仔褲\n",
      "外套 上衣 洋裝 裙子 褲子 AIR SPACE PLUS Andstyle Ballet Dolly LIYO理優 NUMI SISTERS TATA PLUS 古著 初色 襯衫 / POLO衫 T恤 外套 休閒褲 牛仔褲 西裝褲 成套內衣 集中包覆內衣 無鋼圈 / 軟鋼圈內衣 情趣性感睡衣 男女居家睡衣 內褲 塑身衣 塑身褲 局部塑身 / 束胸 男性內衣 合身 四角內褲 寬鬆 四角內褲 三角內褲\n",
      "高CP＊超值任選福袋 遮陽帽 草帽 棒球帽 / 老帽 漁夫帽 鴨舌帽 貝雷帽 紳士帽 毛帽 其他帽款 太陽眼鏡 / 墨鏡 平光眼鏡 髮帶 髮夾 髮箍 髮圈 假髮 薄圍巾 / 披肩 厚圍巾 / 披肩 圍脖 絲巾 觸控手套 羊毛 / 針織手套 其他手套 袖套 腰封 腰帶 / 腰鍊 圍巾 / 圍脖 帽子 手套 太陽眼鏡 男士皮帶 / 腰帶 領帶 領結 方巾/吊帶/袖扣/領夾 防曬商品 其他配件商品 AnnaSofia Angel Woolen A-Surpriz BeautyFocus Chubby Baby DRAKA 達卡 DZ Hera 赫拉 I-shi MONTAGUT 夢特嬌 PB 皮爾帕門 seoul show 首爾秀 SOFER Sunlead VOVA 拉福 幸福揚邑 梨花HaNA 其他品牌\n",
      "IG網紅私服穿搭耳環特輯 高CP＊超值任選福袋 AnnaSofia HaNA 梨花 GIUMKA MASSA-G 長鍊 短鍊 短鍊-925銀 短鍊-白鋼 短鍊-鍺鈦 情侶對鍊 訂製項鍊 飾品套組 925銀 白鋼 鍍K金 合金 快搜：C型 / 圓圈 耳環 快搜：不對稱耳環 快搜：珍珠耳環 快搜：垂墬 / 長耳環 夾式耳環 925銀 白鋼 鍺鈦 合金 其他材質 925銀 白鋼 鍺鈦 鍍K金 其他材質 情侶對戒/套戒 腳鍊 吊飾 / 別針 刺青貼紙 飾品盒 / 珠寶盒 &MORE愛迪莫 AchiCat ACUBY AnnaSofia A-Surpriz FZ鋼飾 MASSA-G GIUMKA HaNA 梨花 Hera 赫拉 JINCHEN KOURIN Majalica MiGO 白剛 Pura Vida 臘繩手鍊 STEVEN YANG seoul show 首爾秀 Wings 維克維娜 山本美樹 iSFairytale伊飾童話\n",
      "\n",
      "糖罐子暢貨區 本月新品 TOP熱銷款 網紗/緹花/蕾絲 造型短T 雪紡 棉麻 素面 條紋 背心 上衣 襯衫 洋裝 套裝 外套 下著\n",
      "OB嚴選中大尺碼暢貨區 OB嚴選暢貨區 中大尺碼 一般尺碼 上衣 外套 下著 洋裝 上衣 外套 下著 洋裝 上衣 外套 下著 洋裝 上衣 外套 下著 洋裝 上衣 外套 下著 洋裝 上衣 外套 下著 洋裝 上衣 外套 下著 洋裝 孕媽咪 幼童 運動服 上衣/外套 下著 內/衣褲 塑身衣/褲 穿搭配件 夏日泳裝\n",
      "59折專區 最新上架 現貨供應中 全系列商品 棠老闆#OOTD 棠老闆直播款 上衣 下著 洋裝\n",
      "熱銷排行榜 新品上市 率性牛仔系列 3.3CM奇蹟爆乳小可愛 WOW! SO SKINNY CHIAO聯名設計系列 CHIAO聯名指定款買即贈 ESTHERLOVESYOU聯名系列 小可愛 上衣 洋裝 連身褲、套裝 外套 背心 襯衫 下著 全系列商品 中大女裝上衣 中大女裝襯衫 中大女裝洋裝 中大女裝連身褲、套裝 中大女裝外套 中大女裝下著 涼鞋 跟鞋 平底鞋\n",
      "本週新上架 上衣、針織衫 洋裝 / 連身褲裝 褲、裙款 外套、罩衫 ‧全系列商品\n",
      "最新商品 人氣熱銷 超值魅力單品 360度完美動態show Paul Frank大嘴猴系列 洋裝 上衣 針織 外套 褲子 / 裙子 時尚玩美party 時尚都會系列 率性丹寧系列 浪漫優雅系列\n",
      "東京著衣暢貨區 簡約黑白色 注目洋裝特輯 本月新品 熱銷排行榜 浪漫蕾絲單品 內搭系列 酷琪琪 聯名款 HONEYQUEEN聯名款 安琪 聯名款 許菲菲 聯名款 全系列商品 熱銷單品 新品上市 泳裝 / 比基尼 上衣 外套 洋裝 襯衫 褲子 裙子 針織 配件 全系列商品 熱銷單品 上衣 外套 洋裝 襯衫 褲子 裙子 針織 全系列商品 熱銷單品 新品上市 上衣 外套 洋裝 襯衫 褲子 裙子 針織 配件\n",
      "本月新品 熱銷排行 360度完美動態show TATA 暢貨區 TOFFEE 暢貨區 上衣 襯衫 針織 洋裝 外套 下著 鞋子/配件 包包 TATA PLUS中大碼區 上衣 / 外套 長褲 短褲 裙子 / 洋裝\n",
      "本週新上架 棉花糖女孩專區 背心 / 小可愛 T-shirt / POLO衫 日系上衣 / 襯衫 針織衫 針織罩衫 / 休閒外套 褲子/裙子 連身洋裝\n",
      "NEW 秋季新品入荷 人氣商品推薦 NEW ARRIVAL >>春夏新品 E hyphen world gallery earth music&ecology Samansa Mos2 Green Parks AMERICAN HOLIC Maison de FLEUR Margarette 都會 Premium 白金 Red 紅標 Natural 自然 Violet 聯名 White 甜美 Basic 定番 上衣 / 針織 / 背心 襯衫 外套/罩衫 洋裝/套裝 裙子 褲子 配件 全系列商品\n",
      "早秋新品上市 上衣 洋裝 外套 網路獨家款 下著 ‧全系列商品\n",
      "新品上市 360影音動態show YOONA ON-AIR 首爾精選 都會時尚 浪漫甜美 街頭潮流 針織衫/毛衣 上衣 襯衫 外套/大衣/罩衫 裙子/褲類 洋裝/連身裙 時尚配飾 針織衫/毛衣 上衣 襯衫 褲類 外套/背心 配件\n",
      "快速到貨 暢貨區 MIT專利特區 均一價$599 均一價$499 均一價$399 5折專區 2018春新品 熱銷排行 360度完美動態show 全系列商品 洋裝 襯衫 上衣 外套 針織 褲子 裙子\n",
      "舒適棉質特輯680元起 歐薇 週新品上架 伊蕾 週新品上架 伊蕾 outlet暢貨區 OUWEY 360度動態秀 上衣/背心 外套 針織 洋裝 褲裝 裙裝 伊蕾 360度動態秀 上衣/背心 外套 針織 洋裝 褲裝 裙裝 圍巾 / 披肩 / 領片\n",
      "洗鍊風尚精選 singlenoble特別企劃 本週新上架 人氣線衫 百搭上衣 優雅細緻襯衫、罩衫 造型外套、名媛洋裝 修飾褲款、歐風裙款 穿搭配件 魅力上衣、造型外套 曲線下身、高雅洋裝 造型上衣 立體剪裁褲、裙款 高雅線衫、襯衫 時髦外套、歐風洋裝\n",
      "內著上衣 / 內著褲 POLO / 背心 / 針織衫 外套 / 休閒褲款 合身窄管褲 錐形直筒褲 短褲/休閒褲 男上衣 男外套 品牌配件 短褲 直筒牛仔褲 大尺碼牛仔褲(38~44腰) T恤 襯衫 牛仔褲 / 短褲 休閒褲 / 運動褲 襯衫 / POLO T恤 / 背心 / 帽T 外套 直筒牛仔褲 T恤 垮褲 襯衫/POLO衫 牛仔褲 休閒褲 / 短褲 T恤 襯衫 / POLO衫 外套 直筒牛仔褲 窄管牛仔褲 T恤 / POLO / 上衣 襯衫 / 外套 T恤 / 上衣 襯衫 / POLO 外套 牛仔褲 / 休閒褲 直筒牛仔褲 / 短褲 上衣 / 外套 / 背心 外套 上衣 牛仔褲 / 休閒褲 T恤 / 內搭上衣 襯衫 / POLO衫 束口褲 / 長褲 短褲 外套 童裝 T恤 / 上衣 POLO衫 / 襯衫 / 外套 長褲 / 短褲 童裝 暢貨特賣 短袖T恤 長袖T恤 POLO / 襯衫 長褲 / 短褲 帽T外套 / 風衣 配件 T恤 / 內搭上衣 襯衫 / POLO衫 長褲 / 短褲 外套 POLO衫 T恤 / 內搭上衣 襯衫 長褲 / 短褲 外套 / 羽絨背心 短TEE 長TEE 帽TEE 襯衫 背心 外套 短褲 牛仔褲 長褲 配件 TOP20 短TEE 背心 襯衫 POLO衫 長TEE 長帽TEE 針織系列 外套 短褲 長褲 配件\n",
      "上衣類 下著類 內著上衣 / 內著褲 POLO / 背心 / 針織衫 外套 彈性緊身褲 丹寧男友褲 REVEL塑形褲 短褲 / 洋裝 / 吊帶褲 女上衣 女外套 男友褲 窄管牛仔褲 直筒牛仔褲 靴型牛仔褲 短褲 / 裙子 上衣 外套 牛仔褲 / 休閒褲 男友褲 / 短褲 / 裙子 窄管褲 / 直筒褲 / 靴型褲 T恤 / 背心 / 針織衫 襯衫 / POLO / 外套 窄管牛仔褲 休閒褲 / 靴型褲 短褲 /洋裝 / 短裙 上衣 短褲/寬褲/短裙/七分褲 上衣 外套 T恤 休閒褲 窄管牛仔褲 直筒牛仔褲 男友褲 喇叭褲/靴型褲 上衣 外套 窄管牛仔褲 直筒牛仔褲 靴型牛仔褲 牛仔短褲 / 牛仔裙 T恤 襯衫 / POLO衫 外套 牛仔褲 / 短褲 窄管牛仔褲 小直筒牛仔褲 T恤 / POLO / 上衣 襯衫 / 外套 T恤 / 上衣 襯衫 / POLO 牛仔褲 / 短褲 / 裙子 T恤 / 內搭上衣 襯衫 / POLO衫 束口褲 / 長褲 / 長裙 短褲 / 短裙 外套 童裝 T恤 / 上衣 POLO衫 / 襯衫 / 外套 褲類/裙類 童裝 T恤 / 內搭上衣 襯衫 / POLO衫 褲子 / 裙子 外套 T恤 / POLO衫 / 襯衫 褲款 / 裙子 外套 / 羽絨背心 上衣 短TEE 長TEE 襯衫 背心 洋裝 外套 裙子 短褲 牛仔褲 長褲 bikinis-美波神器 TOP20 短TEE 背心 襯衫 / POLO衫 洋裝 長TEE 長帽TEE 針織系列 外套 短褲 / 短裙 長褲 配件 短袖T恤 長袖T恤 長褲 / 短褲 帽T外套 / 風衣\n",
      "限時活動專區 全新夏日丹寧9折 Pride性別平權限量款 Cool 涼感丹寧 街拍限定系列 全系列上衣 男短T 男襯衫 男外套 全系列褲款 合身窄管褲 錐形直筒褲 牛仔短褲 501原創丹寧 純棉四角褲 全系列上衣 女短T 女襯衫 / 洋裝 女外套 全系列褲款 洋裝 / 裙子 Dress 寬褲 Baggy 彈性緊身褲 舒適男友褲 Revel 顯瘦塑形褲 短褲 / 吊帶褲 高腰緊身 501原創丹寧 精選熱銷短T 春夏熱銷短褲 經典牛仔外套 男士新品 女士新品 男大尺碼 女中大碼 品牌配件\n"
     ]
    },
    {
     "ename": "KeyboardInterrupt",
     "evalue": "",
     "output_type": "error",
     "traceback": [
      "\u001b[0;31m---------------------------------------------------------------------------\u001b[0m",
      "\u001b[0;31mTypeError\u001b[0m                                 Traceback (most recent call last)",
      "\u001b[0;32m~/anaconda3/lib/python3.6/site-packages/urllib3/connectionpool.py\u001b[0m in \u001b[0;36m_make_request\u001b[0;34m(self, conn, method, url, timeout, chunked, **httplib_request_kw)\u001b[0m\n\u001b[1;32m    379\u001b[0m             \u001b[0;32mtry\u001b[0m\u001b[0;34m:\u001b[0m  \u001b[0;31m# Python 2.7, use buffering of HTTP responses\u001b[0m\u001b[0;34m\u001b[0m\u001b[0m\n\u001b[0;32m--> 380\u001b[0;31m                 \u001b[0mhttplib_response\u001b[0m \u001b[0;34m=\u001b[0m \u001b[0mconn\u001b[0m\u001b[0;34m.\u001b[0m\u001b[0mgetresponse\u001b[0m\u001b[0;34m(\u001b[0m\u001b[0mbuffering\u001b[0m\u001b[0;34m=\u001b[0m\u001b[0;32mTrue\u001b[0m\u001b[0;34m)\u001b[0m\u001b[0;34m\u001b[0m\u001b[0m\n\u001b[0m\u001b[1;32m    381\u001b[0m             \u001b[0;32mexcept\u001b[0m \u001b[0mTypeError\u001b[0m\u001b[0;34m:\u001b[0m  \u001b[0;31m# Python 2.6 and older, Python 3\u001b[0m\u001b[0;34m\u001b[0m\u001b[0m\n",
      "\u001b[0;31mTypeError\u001b[0m: getresponse() got an unexpected keyword argument 'buffering'",
      "\nDuring handling of the above exception, another exception occurred:\n",
      "\u001b[0;31mKeyboardInterrupt\u001b[0m                         Traceback (most recent call last)",
      "\u001b[0;32m<ipython-input-22-ed8fe9e215d0>\u001b[0m in \u001b[0;36m<module>\u001b[0;34m()\u001b[0m\n\u001b[1;32m      1\u001b[0m \u001b[0mdoc\u001b[0m\u001b[0;34m.\u001b[0m\u001b[0mmake_links_absolute\u001b[0m\u001b[0;34m(\u001b[0m\u001b[0mbase_url\u001b[0m\u001b[0;34m=\u001b[0m\u001b[0mres\u001b[0m\u001b[0;34m.\u001b[0m\u001b[0murl\u001b[0m\u001b[0;34m)\u001b[0m\u001b[0;34m\u001b[0m\u001b[0m\n\u001b[1;32m      2\u001b[0m \u001b[0;32mfor\u001b[0m \u001b[0meachLv1Doc\u001b[0m \u001b[0;32min\u001b[0m \u001b[0mdoc\u001b[0m\u001b[0;34m(\u001b[0m\u001b[0;34m\".content .site-list\"\u001b[0m\u001b[0;34m)\u001b[0m\u001b[0;34m.\u001b[0m\u001b[0mitems\u001b[0m\u001b[0;34m(\u001b[0m\u001b[0;34m)\u001b[0m\u001b[0;34m:\u001b[0m\u001b[0;34m\u001b[0m\u001b[0m\n\u001b[0;32m----> 3\u001b[0;31m     \u001b[0mlv1Doc\u001b[0m\u001b[0;34m=\u001b[0m\u001b[0mpq\u001b[0m\u001b[0;34m(\u001b[0m\u001b[0meachLv1Doc\u001b[0m\u001b[0;34m(\u001b[0m\u001b[0;34m\"a\"\u001b[0m\u001b[0;34m)\u001b[0m\u001b[0;34m.\u001b[0m\u001b[0mattr\u001b[0m\u001b[0;34m(\u001b[0m\u001b[0;34m\"href\"\u001b[0m\u001b[0;34m)\u001b[0m\u001b[0;34m)\u001b[0m\u001b[0;34m\u001b[0m\u001b[0m\n\u001b[0m\u001b[1;32m      4\u001b[0m \u001b[0;34m\u001b[0m\u001b[0m\n\u001b[1;32m      5\u001b[0m     \u001b[0;32mif\u001b[0m \u001b[0;34m\"活動\"\u001b[0m \u001b[0;32min\u001b[0m \u001b[0mlv1Doc\u001b[0m\u001b[0;34m(\u001b[0m\u001b[0;34m\"#cl-menucate .sitelist:nth-child(1) .stitle\"\u001b[0m\u001b[0;34m)\u001b[0m\u001b[0;34m.\u001b[0m\u001b[0mtext\u001b[0m\u001b[0;34m(\u001b[0m\u001b[0;34m)\u001b[0m\u001b[0;34m:\u001b[0m\u001b[0;34m\u001b[0m\u001b[0m\n",
      "\u001b[0;32m~/anaconda3/lib/python3.6/site-packages/pyquery-1.4.0-py3.6.egg/pyquery/pyquery.py\u001b[0m in \u001b[0;36m__init__\u001b[0;34m(self, *args, **kwargs)\u001b[0m\n\u001b[1;32m    221\u001b[0m                     \u001b[0mhtml\u001b[0m \u001b[0;34m=\u001b[0m \u001b[0mopener\u001b[0m\u001b[0;34m(\u001b[0m\u001b[0murl\u001b[0m\u001b[0;34m,\u001b[0m \u001b[0;34m**\u001b[0m\u001b[0mkwargs\u001b[0m\u001b[0;34m)\u001b[0m\u001b[0;34m\u001b[0m\u001b[0m\n\u001b[1;32m    222\u001b[0m                 \u001b[0;32melse\u001b[0m\u001b[0;34m:\u001b[0m\u001b[0;34m\u001b[0m\u001b[0m\n\u001b[0;32m--> 223\u001b[0;31m                     \u001b[0mhtml\u001b[0m \u001b[0;34m=\u001b[0m \u001b[0murl_opener\u001b[0m\u001b[0;34m(\u001b[0m\u001b[0murl\u001b[0m\u001b[0;34m,\u001b[0m \u001b[0mkwargs\u001b[0m\u001b[0;34m)\u001b[0m\u001b[0;34m\u001b[0m\u001b[0m\n\u001b[0m\u001b[1;32m    224\u001b[0m                 \u001b[0;32mif\u001b[0m \u001b[0;32mnot\u001b[0m \u001b[0mself\u001b[0m\u001b[0;34m.\u001b[0m\u001b[0mparser\u001b[0m\u001b[0;34m:\u001b[0m\u001b[0;34m\u001b[0m\u001b[0m\n\u001b[1;32m    225\u001b[0m                     \u001b[0mself\u001b[0m\u001b[0;34m.\u001b[0m\u001b[0mparser\u001b[0m \u001b[0;34m=\u001b[0m \u001b[0;34m'html'\u001b[0m\u001b[0;34m\u001b[0m\u001b[0m\n",
      "\u001b[0;32m~/anaconda3/lib/python3.6/site-packages/pyquery-1.4.0-py3.6.egg/pyquery/openers.py\u001b[0m in \u001b[0;36murl_opener\u001b[0;34m(url, kwargs)\u001b[0m\n\u001b[1;32m     76\u001b[0m \u001b[0;32mdef\u001b[0m \u001b[0murl_opener\u001b[0m\u001b[0;34m(\u001b[0m\u001b[0murl\u001b[0m\u001b[0;34m,\u001b[0m \u001b[0mkwargs\u001b[0m\u001b[0;34m)\u001b[0m\u001b[0;34m:\u001b[0m\u001b[0;34m\u001b[0m\u001b[0m\n\u001b[1;32m     77\u001b[0m     \u001b[0;32mif\u001b[0m \u001b[0mHAS_REQUEST\u001b[0m\u001b[0;34m:\u001b[0m\u001b[0;34m\u001b[0m\u001b[0m\n\u001b[0;32m---> 78\u001b[0;31m         \u001b[0;32mreturn\u001b[0m \u001b[0m_requests\u001b[0m\u001b[0;34m(\u001b[0m\u001b[0murl\u001b[0m\u001b[0;34m,\u001b[0m \u001b[0mkwargs\u001b[0m\u001b[0;34m)\u001b[0m\u001b[0;34m\u001b[0m\u001b[0m\n\u001b[0m\u001b[1;32m     79\u001b[0m     \u001b[0;32mreturn\u001b[0m \u001b[0m_urllib\u001b[0m\u001b[0;34m(\u001b[0m\u001b[0murl\u001b[0m\u001b[0;34m,\u001b[0m \u001b[0mkwargs\u001b[0m\u001b[0;34m)\u001b[0m\u001b[0;34m\u001b[0m\u001b[0m\n",
      "\u001b[0;32m~/anaconda3/lib/python3.6/site-packages/pyquery-1.4.0-py3.6.egg/pyquery/openers.py\u001b[0m in \u001b[0;36m_requests\u001b[0;34m(url, kwargs)\u001b[0m\n\u001b[1;32m     58\u001b[0m         \u001b[0;32mif\u001b[0m \u001b[0mk\u001b[0m \u001b[0;32min\u001b[0m \u001b[0mkwargs\u001b[0m\u001b[0;34m:\u001b[0m\u001b[0;34m\u001b[0m\u001b[0m\n\u001b[1;32m     59\u001b[0m             \u001b[0mkw\u001b[0m\u001b[0;34m[\u001b[0m\u001b[0mk\u001b[0m\u001b[0;34m]\u001b[0m \u001b[0;34m=\u001b[0m \u001b[0mkwargs\u001b[0m\u001b[0;34m[\u001b[0m\u001b[0mk\u001b[0m\u001b[0;34m]\u001b[0m\u001b[0;34m\u001b[0m\u001b[0m\n\u001b[0;32m---> 60\u001b[0;31m     \u001b[0mresp\u001b[0m \u001b[0;34m=\u001b[0m \u001b[0mmeth\u001b[0m\u001b[0;34m(\u001b[0m\u001b[0murl\u001b[0m\u001b[0;34m=\u001b[0m\u001b[0murl\u001b[0m\u001b[0;34m,\u001b[0m \u001b[0;34m**\u001b[0m\u001b[0mkw\u001b[0m\u001b[0;34m)\u001b[0m\u001b[0;34m\u001b[0m\u001b[0m\n\u001b[0m\u001b[1;32m     61\u001b[0m     \u001b[0;32mif\u001b[0m \u001b[0;32mnot\u001b[0m \u001b[0;34m(\u001b[0m\u001b[0;36m200\u001b[0m \u001b[0;34m<=\u001b[0m \u001b[0mresp\u001b[0m\u001b[0;34m.\u001b[0m\u001b[0mstatus_code\u001b[0m \u001b[0;34m<\u001b[0m \u001b[0;36m300\u001b[0m\u001b[0;34m)\u001b[0m\u001b[0;34m:\u001b[0m\u001b[0;34m\u001b[0m\u001b[0m\n\u001b[1;32m     62\u001b[0m         raise HTTPError(resp.url, resp.status_code,\n",
      "\u001b[0;32m~/anaconda3/lib/python3.6/site-packages/requests/api.py\u001b[0m in \u001b[0;36mget\u001b[0;34m(url, params, **kwargs)\u001b[0m\n\u001b[1;32m     70\u001b[0m \u001b[0;34m\u001b[0m\u001b[0m\n\u001b[1;32m     71\u001b[0m     \u001b[0mkwargs\u001b[0m\u001b[0;34m.\u001b[0m\u001b[0msetdefault\u001b[0m\u001b[0;34m(\u001b[0m\u001b[0;34m'allow_redirects'\u001b[0m\u001b[0;34m,\u001b[0m \u001b[0;32mTrue\u001b[0m\u001b[0;34m)\u001b[0m\u001b[0;34m\u001b[0m\u001b[0m\n\u001b[0;32m---> 72\u001b[0;31m     \u001b[0;32mreturn\u001b[0m \u001b[0mrequest\u001b[0m\u001b[0;34m(\u001b[0m\u001b[0;34m'get'\u001b[0m\u001b[0;34m,\u001b[0m \u001b[0murl\u001b[0m\u001b[0;34m,\u001b[0m \u001b[0mparams\u001b[0m\u001b[0;34m=\u001b[0m\u001b[0mparams\u001b[0m\u001b[0;34m,\u001b[0m \u001b[0;34m**\u001b[0m\u001b[0mkwargs\u001b[0m\u001b[0;34m)\u001b[0m\u001b[0;34m\u001b[0m\u001b[0m\n\u001b[0m\u001b[1;32m     73\u001b[0m \u001b[0;34m\u001b[0m\u001b[0m\n\u001b[1;32m     74\u001b[0m \u001b[0;34m\u001b[0m\u001b[0m\n",
      "\u001b[0;32m~/anaconda3/lib/python3.6/site-packages/requests/api.py\u001b[0m in \u001b[0;36mrequest\u001b[0;34m(method, url, **kwargs)\u001b[0m\n\u001b[1;32m     56\u001b[0m     \u001b[0;31m# cases, and look like a memory leak in others.\u001b[0m\u001b[0;34m\u001b[0m\u001b[0;34m\u001b[0m\u001b[0m\n\u001b[1;32m     57\u001b[0m     \u001b[0;32mwith\u001b[0m \u001b[0msessions\u001b[0m\u001b[0;34m.\u001b[0m\u001b[0mSession\u001b[0m\u001b[0;34m(\u001b[0m\u001b[0;34m)\u001b[0m \u001b[0;32mas\u001b[0m \u001b[0msession\u001b[0m\u001b[0;34m:\u001b[0m\u001b[0;34m\u001b[0m\u001b[0m\n\u001b[0;32m---> 58\u001b[0;31m         \u001b[0;32mreturn\u001b[0m \u001b[0msession\u001b[0m\u001b[0;34m.\u001b[0m\u001b[0mrequest\u001b[0m\u001b[0;34m(\u001b[0m\u001b[0mmethod\u001b[0m\u001b[0;34m=\u001b[0m\u001b[0mmethod\u001b[0m\u001b[0;34m,\u001b[0m \u001b[0murl\u001b[0m\u001b[0;34m=\u001b[0m\u001b[0murl\u001b[0m\u001b[0;34m,\u001b[0m \u001b[0;34m**\u001b[0m\u001b[0mkwargs\u001b[0m\u001b[0;34m)\u001b[0m\u001b[0;34m\u001b[0m\u001b[0m\n\u001b[0m\u001b[1;32m     59\u001b[0m \u001b[0;34m\u001b[0m\u001b[0m\n\u001b[1;32m     60\u001b[0m \u001b[0;34m\u001b[0m\u001b[0m\n",
      "\u001b[0;32m~/anaconda3/lib/python3.6/site-packages/requests/sessions.py\u001b[0m in \u001b[0;36mrequest\u001b[0;34m(self, method, url, params, data, headers, cookies, files, auth, timeout, allow_redirects, proxies, hooks, stream, verify, cert, json)\u001b[0m\n\u001b[1;32m    506\u001b[0m         }\n\u001b[1;32m    507\u001b[0m         \u001b[0msend_kwargs\u001b[0m\u001b[0;34m.\u001b[0m\u001b[0mupdate\u001b[0m\u001b[0;34m(\u001b[0m\u001b[0msettings\u001b[0m\u001b[0;34m)\u001b[0m\u001b[0;34m\u001b[0m\u001b[0m\n\u001b[0;32m--> 508\u001b[0;31m         \u001b[0mresp\u001b[0m \u001b[0;34m=\u001b[0m \u001b[0mself\u001b[0m\u001b[0;34m.\u001b[0m\u001b[0msend\u001b[0m\u001b[0;34m(\u001b[0m\u001b[0mprep\u001b[0m\u001b[0;34m,\u001b[0m \u001b[0;34m**\u001b[0m\u001b[0msend_kwargs\u001b[0m\u001b[0;34m)\u001b[0m\u001b[0;34m\u001b[0m\u001b[0m\n\u001b[0m\u001b[1;32m    509\u001b[0m \u001b[0;34m\u001b[0m\u001b[0m\n\u001b[1;32m    510\u001b[0m         \u001b[0;32mreturn\u001b[0m \u001b[0mresp\u001b[0m\u001b[0;34m\u001b[0m\u001b[0m\n",
      "\u001b[0;32m~/anaconda3/lib/python3.6/site-packages/requests/sessions.py\u001b[0m in \u001b[0;36msend\u001b[0;34m(self, request, **kwargs)\u001b[0m\n\u001b[1;32m    616\u001b[0m \u001b[0;34m\u001b[0m\u001b[0m\n\u001b[1;32m    617\u001b[0m         \u001b[0;31m# Send the request\u001b[0m\u001b[0;34m\u001b[0m\u001b[0;34m\u001b[0m\u001b[0m\n\u001b[0;32m--> 618\u001b[0;31m         \u001b[0mr\u001b[0m \u001b[0;34m=\u001b[0m \u001b[0madapter\u001b[0m\u001b[0;34m.\u001b[0m\u001b[0msend\u001b[0m\u001b[0;34m(\u001b[0m\u001b[0mrequest\u001b[0m\u001b[0;34m,\u001b[0m \u001b[0;34m**\u001b[0m\u001b[0mkwargs\u001b[0m\u001b[0;34m)\u001b[0m\u001b[0;34m\u001b[0m\u001b[0m\n\u001b[0m\u001b[1;32m    619\u001b[0m \u001b[0;34m\u001b[0m\u001b[0m\n\u001b[1;32m    620\u001b[0m         \u001b[0;31m# Total elapsed time of the request (approximately)\u001b[0m\u001b[0;34m\u001b[0m\u001b[0;34m\u001b[0m\u001b[0m\n",
      "\u001b[0;32m~/anaconda3/lib/python3.6/site-packages/requests/adapters.py\u001b[0m in \u001b[0;36msend\u001b[0;34m(self, request, stream, timeout, verify, cert, proxies)\u001b[0m\n\u001b[1;32m    438\u001b[0m                     \u001b[0mdecode_content\u001b[0m\u001b[0;34m=\u001b[0m\u001b[0;32mFalse\u001b[0m\u001b[0;34m,\u001b[0m\u001b[0;34m\u001b[0m\u001b[0m\n\u001b[1;32m    439\u001b[0m                     \u001b[0mretries\u001b[0m\u001b[0;34m=\u001b[0m\u001b[0mself\u001b[0m\u001b[0;34m.\u001b[0m\u001b[0mmax_retries\u001b[0m\u001b[0;34m,\u001b[0m\u001b[0;34m\u001b[0m\u001b[0m\n\u001b[0;32m--> 440\u001b[0;31m                     \u001b[0mtimeout\u001b[0m\u001b[0;34m=\u001b[0m\u001b[0mtimeout\u001b[0m\u001b[0;34m\u001b[0m\u001b[0m\n\u001b[0m\u001b[1;32m    441\u001b[0m                 )\n\u001b[1;32m    442\u001b[0m \u001b[0;34m\u001b[0m\u001b[0m\n",
      "\u001b[0;32m~/anaconda3/lib/python3.6/site-packages/urllib3/connectionpool.py\u001b[0m in \u001b[0;36murlopen\u001b[0;34m(self, method, url, body, headers, retries, redirect, assert_same_host, timeout, pool_timeout, release_conn, chunked, body_pos, **response_kw)\u001b[0m\n\u001b[1;32m    599\u001b[0m                                                   \u001b[0mtimeout\u001b[0m\u001b[0;34m=\u001b[0m\u001b[0mtimeout_obj\u001b[0m\u001b[0;34m,\u001b[0m\u001b[0;34m\u001b[0m\u001b[0m\n\u001b[1;32m    600\u001b[0m                                                   \u001b[0mbody\u001b[0m\u001b[0;34m=\u001b[0m\u001b[0mbody\u001b[0m\u001b[0;34m,\u001b[0m \u001b[0mheaders\u001b[0m\u001b[0;34m=\u001b[0m\u001b[0mheaders\u001b[0m\u001b[0;34m,\u001b[0m\u001b[0;34m\u001b[0m\u001b[0m\n\u001b[0;32m--> 601\u001b[0;31m                                                   chunked=chunked)\n\u001b[0m\u001b[1;32m    602\u001b[0m \u001b[0;34m\u001b[0m\u001b[0m\n\u001b[1;32m    603\u001b[0m             \u001b[0;31m# If we're going to release the connection in ``finally:``, then\u001b[0m\u001b[0;34m\u001b[0m\u001b[0;34m\u001b[0m\u001b[0m\n",
      "\u001b[0;32m~/anaconda3/lib/python3.6/site-packages/urllib3/connectionpool.py\u001b[0m in \u001b[0;36m_make_request\u001b[0;34m(self, conn, method, url, timeout, chunked, **httplib_request_kw)\u001b[0m\n\u001b[1;32m    381\u001b[0m             \u001b[0;32mexcept\u001b[0m \u001b[0mTypeError\u001b[0m\u001b[0;34m:\u001b[0m  \u001b[0;31m# Python 2.6 and older, Python 3\u001b[0m\u001b[0;34m\u001b[0m\u001b[0m\n\u001b[1;32m    382\u001b[0m                 \u001b[0;32mtry\u001b[0m\u001b[0;34m:\u001b[0m\u001b[0;34m\u001b[0m\u001b[0m\n\u001b[0;32m--> 383\u001b[0;31m                     \u001b[0mhttplib_response\u001b[0m \u001b[0;34m=\u001b[0m \u001b[0mconn\u001b[0m\u001b[0;34m.\u001b[0m\u001b[0mgetresponse\u001b[0m\u001b[0;34m(\u001b[0m\u001b[0;34m)\u001b[0m\u001b[0;34m\u001b[0m\u001b[0m\n\u001b[0m\u001b[1;32m    384\u001b[0m                 \u001b[0;32mexcept\u001b[0m \u001b[0mException\u001b[0m \u001b[0;32mas\u001b[0m \u001b[0me\u001b[0m\u001b[0;34m:\u001b[0m\u001b[0;34m\u001b[0m\u001b[0m\n\u001b[1;32m    385\u001b[0m                     \u001b[0;31m# Remove the TypeError from the exception chain in Python 3;\u001b[0m\u001b[0;34m\u001b[0m\u001b[0;34m\u001b[0m\u001b[0m\n",
      "\u001b[0;32m~/anaconda3/lib/python3.6/http/client.py\u001b[0m in \u001b[0;36mgetresponse\u001b[0;34m(self)\u001b[0m\n\u001b[1;32m   1329\u001b[0m         \u001b[0;32mtry\u001b[0m\u001b[0;34m:\u001b[0m\u001b[0;34m\u001b[0m\u001b[0m\n\u001b[1;32m   1330\u001b[0m             \u001b[0;32mtry\u001b[0m\u001b[0;34m:\u001b[0m\u001b[0;34m\u001b[0m\u001b[0m\n\u001b[0;32m-> 1331\u001b[0;31m                 \u001b[0mresponse\u001b[0m\u001b[0;34m.\u001b[0m\u001b[0mbegin\u001b[0m\u001b[0;34m(\u001b[0m\u001b[0;34m)\u001b[0m\u001b[0;34m\u001b[0m\u001b[0m\n\u001b[0m\u001b[1;32m   1332\u001b[0m             \u001b[0;32mexcept\u001b[0m \u001b[0mConnectionError\u001b[0m\u001b[0;34m:\u001b[0m\u001b[0;34m\u001b[0m\u001b[0m\n\u001b[1;32m   1333\u001b[0m                 \u001b[0mself\u001b[0m\u001b[0;34m.\u001b[0m\u001b[0mclose\u001b[0m\u001b[0;34m(\u001b[0m\u001b[0;34m)\u001b[0m\u001b[0;34m\u001b[0m\u001b[0m\n",
      "\u001b[0;32m~/anaconda3/lib/python3.6/http/client.py\u001b[0m in \u001b[0;36mbegin\u001b[0;34m(self)\u001b[0m\n\u001b[1;32m    295\u001b[0m         \u001b[0;31m# read until we get a non-100 response\u001b[0m\u001b[0;34m\u001b[0m\u001b[0;34m\u001b[0m\u001b[0m\n\u001b[1;32m    296\u001b[0m         \u001b[0;32mwhile\u001b[0m \u001b[0;32mTrue\u001b[0m\u001b[0;34m:\u001b[0m\u001b[0;34m\u001b[0m\u001b[0m\n\u001b[0;32m--> 297\u001b[0;31m             \u001b[0mversion\u001b[0m\u001b[0;34m,\u001b[0m \u001b[0mstatus\u001b[0m\u001b[0;34m,\u001b[0m \u001b[0mreason\u001b[0m \u001b[0;34m=\u001b[0m \u001b[0mself\u001b[0m\u001b[0;34m.\u001b[0m\u001b[0m_read_status\u001b[0m\u001b[0;34m(\u001b[0m\u001b[0;34m)\u001b[0m\u001b[0;34m\u001b[0m\u001b[0m\n\u001b[0m\u001b[1;32m    298\u001b[0m             \u001b[0;32mif\u001b[0m \u001b[0mstatus\u001b[0m \u001b[0;34m!=\u001b[0m \u001b[0mCONTINUE\u001b[0m\u001b[0;34m:\u001b[0m\u001b[0;34m\u001b[0m\u001b[0m\n\u001b[1;32m    299\u001b[0m                 \u001b[0;32mbreak\u001b[0m\u001b[0;34m\u001b[0m\u001b[0m\n",
      "\u001b[0;32m~/anaconda3/lib/python3.6/http/client.py\u001b[0m in \u001b[0;36m_read_status\u001b[0;34m(self)\u001b[0m\n\u001b[1;32m    256\u001b[0m \u001b[0;34m\u001b[0m\u001b[0m\n\u001b[1;32m    257\u001b[0m     \u001b[0;32mdef\u001b[0m \u001b[0m_read_status\u001b[0m\u001b[0;34m(\u001b[0m\u001b[0mself\u001b[0m\u001b[0;34m)\u001b[0m\u001b[0;34m:\u001b[0m\u001b[0;34m\u001b[0m\u001b[0m\n\u001b[0;32m--> 258\u001b[0;31m         \u001b[0mline\u001b[0m \u001b[0;34m=\u001b[0m \u001b[0mstr\u001b[0m\u001b[0;34m(\u001b[0m\u001b[0mself\u001b[0m\u001b[0;34m.\u001b[0m\u001b[0mfp\u001b[0m\u001b[0;34m.\u001b[0m\u001b[0mreadline\u001b[0m\u001b[0;34m(\u001b[0m\u001b[0m_MAXLINE\u001b[0m \u001b[0;34m+\u001b[0m \u001b[0;36m1\u001b[0m\u001b[0;34m)\u001b[0m\u001b[0;34m,\u001b[0m \u001b[0;34m\"iso-8859-1\"\u001b[0m\u001b[0;34m)\u001b[0m\u001b[0;34m\u001b[0m\u001b[0m\n\u001b[0m\u001b[1;32m    259\u001b[0m         \u001b[0;32mif\u001b[0m \u001b[0mlen\u001b[0m\u001b[0;34m(\u001b[0m\u001b[0mline\u001b[0m\u001b[0;34m)\u001b[0m \u001b[0;34m>\u001b[0m \u001b[0m_MAXLINE\u001b[0m\u001b[0;34m:\u001b[0m\u001b[0;34m\u001b[0m\u001b[0m\n\u001b[1;32m    260\u001b[0m             \u001b[0;32mraise\u001b[0m \u001b[0mLineTooLong\u001b[0m\u001b[0;34m(\u001b[0m\u001b[0;34m\"status line\"\u001b[0m\u001b[0;34m)\u001b[0m\u001b[0;34m\u001b[0m\u001b[0m\n",
      "\u001b[0;32m~/anaconda3/lib/python3.6/socket.py\u001b[0m in \u001b[0;36mreadinto\u001b[0;34m(self, b)\u001b[0m\n\u001b[1;32m    584\u001b[0m         \u001b[0;32mwhile\u001b[0m \u001b[0;32mTrue\u001b[0m\u001b[0;34m:\u001b[0m\u001b[0;34m\u001b[0m\u001b[0m\n\u001b[1;32m    585\u001b[0m             \u001b[0;32mtry\u001b[0m\u001b[0;34m:\u001b[0m\u001b[0;34m\u001b[0m\u001b[0m\n\u001b[0;32m--> 586\u001b[0;31m                 \u001b[0;32mreturn\u001b[0m \u001b[0mself\u001b[0m\u001b[0;34m.\u001b[0m\u001b[0m_sock\u001b[0m\u001b[0;34m.\u001b[0m\u001b[0mrecv_into\u001b[0m\u001b[0;34m(\u001b[0m\u001b[0mb\u001b[0m\u001b[0;34m)\u001b[0m\u001b[0;34m\u001b[0m\u001b[0m\n\u001b[0m\u001b[1;32m    587\u001b[0m             \u001b[0;32mexcept\u001b[0m \u001b[0mtimeout\u001b[0m\u001b[0;34m:\u001b[0m\u001b[0;34m\u001b[0m\u001b[0m\n\u001b[1;32m    588\u001b[0m                 \u001b[0mself\u001b[0m\u001b[0;34m.\u001b[0m\u001b[0m_timeout_occurred\u001b[0m \u001b[0;34m=\u001b[0m \u001b[0;32mTrue\u001b[0m\u001b[0;34m\u001b[0m\u001b[0m\n",
      "\u001b[0;32m~/anaconda3/lib/python3.6/site-packages/urllib3/contrib/pyopenssl.py\u001b[0m in \u001b[0;36mrecv_into\u001b[0;34m(self, *args, **kwargs)\u001b[0m\n\u001b[1;32m    278\u001b[0m     \u001b[0;32mdef\u001b[0m \u001b[0mrecv_into\u001b[0m\u001b[0;34m(\u001b[0m\u001b[0mself\u001b[0m\u001b[0;34m,\u001b[0m \u001b[0;34m*\u001b[0m\u001b[0margs\u001b[0m\u001b[0;34m,\u001b[0m \u001b[0;34m**\u001b[0m\u001b[0mkwargs\u001b[0m\u001b[0;34m)\u001b[0m\u001b[0;34m:\u001b[0m\u001b[0;34m\u001b[0m\u001b[0m\n\u001b[1;32m    279\u001b[0m         \u001b[0;32mtry\u001b[0m\u001b[0;34m:\u001b[0m\u001b[0;34m\u001b[0m\u001b[0m\n\u001b[0;32m--> 280\u001b[0;31m             \u001b[0;32mreturn\u001b[0m \u001b[0mself\u001b[0m\u001b[0;34m.\u001b[0m\u001b[0mconnection\u001b[0m\u001b[0;34m.\u001b[0m\u001b[0mrecv_into\u001b[0m\u001b[0;34m(\u001b[0m\u001b[0;34m*\u001b[0m\u001b[0margs\u001b[0m\u001b[0;34m,\u001b[0m \u001b[0;34m**\u001b[0m\u001b[0mkwargs\u001b[0m\u001b[0;34m)\u001b[0m\u001b[0;34m\u001b[0m\u001b[0m\n\u001b[0m\u001b[1;32m    281\u001b[0m         \u001b[0;32mexcept\u001b[0m \u001b[0mOpenSSL\u001b[0m\u001b[0;34m.\u001b[0m\u001b[0mSSL\u001b[0m\u001b[0;34m.\u001b[0m\u001b[0mSysCallError\u001b[0m \u001b[0;32mas\u001b[0m \u001b[0me\u001b[0m\u001b[0;34m:\u001b[0m\u001b[0;34m\u001b[0m\u001b[0m\n\u001b[1;32m    282\u001b[0m             \u001b[0;32mif\u001b[0m \u001b[0mself\u001b[0m\u001b[0;34m.\u001b[0m\u001b[0msuppress_ragged_eofs\u001b[0m \u001b[0;32mand\u001b[0m \u001b[0me\u001b[0m\u001b[0;34m.\u001b[0m\u001b[0margs\u001b[0m \u001b[0;34m==\u001b[0m \u001b[0;34m(\u001b[0m\u001b[0;34m-\u001b[0m\u001b[0;36m1\u001b[0m\u001b[0;34m,\u001b[0m \u001b[0;34m'Unexpected EOF'\u001b[0m\u001b[0;34m)\u001b[0m\u001b[0;34m:\u001b[0m\u001b[0;34m\u001b[0m\u001b[0m\n",
      "\u001b[0;32m~/anaconda3/lib/python3.6/site-packages/OpenSSL/SSL.py\u001b[0m in \u001b[0;36mrecv_into\u001b[0;34m(self, buffer, nbytes, flags)\u001b[0m\n\u001b[1;32m   1622\u001b[0m             \u001b[0mresult\u001b[0m \u001b[0;34m=\u001b[0m \u001b[0m_lib\u001b[0m\u001b[0;34m.\u001b[0m\u001b[0mSSL_peek\u001b[0m\u001b[0;34m(\u001b[0m\u001b[0mself\u001b[0m\u001b[0;34m.\u001b[0m\u001b[0m_ssl\u001b[0m\u001b[0;34m,\u001b[0m \u001b[0mbuf\u001b[0m\u001b[0;34m,\u001b[0m \u001b[0mnbytes\u001b[0m\u001b[0;34m)\u001b[0m\u001b[0;34m\u001b[0m\u001b[0m\n\u001b[1;32m   1623\u001b[0m         \u001b[0;32melse\u001b[0m\u001b[0;34m:\u001b[0m\u001b[0;34m\u001b[0m\u001b[0m\n\u001b[0;32m-> 1624\u001b[0;31m             \u001b[0mresult\u001b[0m \u001b[0;34m=\u001b[0m \u001b[0m_lib\u001b[0m\u001b[0;34m.\u001b[0m\u001b[0mSSL_read\u001b[0m\u001b[0;34m(\u001b[0m\u001b[0mself\u001b[0m\u001b[0;34m.\u001b[0m\u001b[0m_ssl\u001b[0m\u001b[0;34m,\u001b[0m \u001b[0mbuf\u001b[0m\u001b[0;34m,\u001b[0m \u001b[0mnbytes\u001b[0m\u001b[0;34m)\u001b[0m\u001b[0;34m\u001b[0m\u001b[0m\n\u001b[0m\u001b[1;32m   1625\u001b[0m         \u001b[0mself\u001b[0m\u001b[0;34m.\u001b[0m\u001b[0m_raise_ssl_error\u001b[0m\u001b[0;34m(\u001b[0m\u001b[0mself\u001b[0m\u001b[0;34m.\u001b[0m\u001b[0m_ssl\u001b[0m\u001b[0;34m,\u001b[0m \u001b[0mresult\u001b[0m\u001b[0;34m)\u001b[0m\u001b[0;34m\u001b[0m\u001b[0m\n\u001b[1;32m   1626\u001b[0m \u001b[0;34m\u001b[0m\u001b[0m\n",
      "\u001b[0;31mKeyboardInterrupt\u001b[0m: "
     ]
    }
   ],
   "source": [
    "doc.make_links_absolute(base_url=res.url)\n",
    "for eachLv1Doc in doc(\".content .site-list\").items():\n",
    "    lv1Doc=pq(eachLv1Doc(\"a\").attr(\"href\"))\n",
    "    \n",
    "    if \"活動\" in lv1Doc(\"#cl-menucate .sitelist:nth-child(1) .stitle\").text():\n",
    "        print(lv1Doc(\"#cl-menucate .sitelist:nth-child(n+2) .list\").text())\n",
    "    else:\n",
    "        print(lv1Doc(\"#cl-menucate .sitelist .list\").text())\n",
    "    #print(lv1Doc(\"#cl-menucate .sitelist:nth-child(n+2) .list\").text())"
   ]
  },
  {
   "cell_type": "code",
   "execution_count": null,
   "metadata": {
    "collapsed": true
   },
   "outputs": [],
   "source": []
  },
  {
   "cell_type": "code",
   "execution_count": null,
   "metadata": {
    "collapsed": true
   },
   "outputs": [],
   "source": []
  }
 ],
 "metadata": {
  "kernelspec": {
   "display_name": "Python 3",
   "language": "python",
   "name": "python3"
  },
  "language_info": {
   "codemirror_mode": {
    "name": "ipython",
    "version": 3
   },
   "file_extension": ".py",
   "mimetype": "text/x-python",
   "name": "python",
   "nbconvert_exporter": "python",
   "pygments_lexer": "ipython3",
   "version": "3.6.3"
  }
 },
 "nbformat": 4,
 "nbformat_minor": 2
}
