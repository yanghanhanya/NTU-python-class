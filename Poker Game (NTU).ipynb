{
 "cells": [
  {
   "cell_type": "code",
   "execution_count": 1,
   "metadata": {
    "collapsed": true
   },
   "outputs": [],
   "source": [
    "suit={1:\"黑桃\",2:\"紅心\",3:\"方塊\",4:\"梅花\"}\n",
    "card=[\"A\",\"2\",\"3\",\"4\",\"5\",\"6\",\"7\",\"8\",\"9\",\"10\",\"J\",\"Q\",\"k\"]"
   ]
  },
  {
   "cell_type": "code",
   "execution_count": 34,
   "metadata": {
    "collapsed": true
   },
   "outputs": [],
   "source": [
    "from random import choice,sample"
   ]
  },
  {
   "cell_type": "code",
   "execution_count": 35,
   "metadata": {},
   "outputs": [
    {
     "data": {
      "text/plain": [
       "65.54447230188143"
      ]
     },
     "execution_count": 35,
     "metadata": {},
     "output_type": "execute_result"
    }
   ],
   "source": [
    "rd.uniform(0,99)"
   ]
  },
  {
   "cell_type": "code",
   "execution_count": 36,
   "metadata": {},
   "outputs": [],
   "source": [
    "def drawCards(n=5):\n",
    "    suit={1:\"黑桃\",2:\"紅心\",3:\"方塊\",4:\"梅花\"}\n",
    "    card=[\"A\",\"2\",\"3\",\"4\",\"5\",\"6\",\"7\",\"8\",\"9\",\"10\",\"J\",\"Q\",\"k\"]\n",
    "    for each in range(n):\n",
    "        print(choice(list(suit.values())),rd.choice(card))"
   ]
  },
  {
   "cell_type": "code",
   "execution_count": 37,
   "metadata": {},
   "outputs": [
    {
     "name": "stdout",
     "output_type": "stream",
     "text": [
      "紅心 10\n",
      "梅花 7\n",
      "紅心 2\n",
      "方塊 6\n",
      "方塊 A\n"
     ]
    }
   ],
   "source": [
    "drawCards()"
   ]
  },
  {
   "cell_type": "code",
   "execution_count": 40,
   "metadata": {
    "collapsed": true
   },
   "outputs": [],
   "source": [
    "def drawCards(n=5):\n",
    "    poker=[] #串列\n",
    "    suit={1:\"黑桃\",2:\"紅心\",3:\"方塊\",4:\"梅花\"}\n",
    "    card=[\"A\",\"2\",\"3\",\"4\",\"5\",\"6\",\"7\",\"8\",\"9\",\"10\",\"J\",\"Q\",\"k\"]\n",
    "    for i in suit.values():\n",
    "        for j in card:\n",
    "            poker.append(i+j)\n",
    "        print(poker)\n",
    "    return sample(poker,n)\n",
    "    "
   ]
  },
  {
   "cell_type": "code",
   "execution_count": 42,
   "metadata": {},
   "outputs": [
    {
     "name": "stdout",
     "output_type": "stream",
     "text": [
      "['黑桃A', '黑桃2', '黑桃3', '黑桃4', '黑桃5', '黑桃6', '黑桃7', '黑桃8', '黑桃9', '黑桃10', '黑桃J', '黑桃Q', '黑桃k']\n",
      "['黑桃A', '黑桃2', '黑桃3', '黑桃4', '黑桃5', '黑桃6', '黑桃7', '黑桃8', '黑桃9', '黑桃10', '黑桃J', '黑桃Q', '黑桃k', '紅心A', '紅心2', '紅心3', '紅心4', '紅心5', '紅心6', '紅心7', '紅心8', '紅心9', '紅心10', '紅心J', '紅心Q', '紅心k']\n",
      "['黑桃A', '黑桃2', '黑桃3', '黑桃4', '黑桃5', '黑桃6', '黑桃7', '黑桃8', '黑桃9', '黑桃10', '黑桃J', '黑桃Q', '黑桃k', '紅心A', '紅心2', '紅心3', '紅心4', '紅心5', '紅心6', '紅心7', '紅心8', '紅心9', '紅心10', '紅心J', '紅心Q', '紅心k', '方塊A', '方塊2', '方塊3', '方塊4', '方塊5', '方塊6', '方塊7', '方塊8', '方塊9', '方塊10', '方塊J', '方塊Q', '方塊k']\n",
      "['黑桃A', '黑桃2', '黑桃3', '黑桃4', '黑桃5', '黑桃6', '黑桃7', '黑桃8', '黑桃9', '黑桃10', '黑桃J', '黑桃Q', '黑桃k', '紅心A', '紅心2', '紅心3', '紅心4', '紅心5', '紅心6', '紅心7', '紅心8', '紅心9', '紅心10', '紅心J', '紅心Q', '紅心k', '方塊A', '方塊2', '方塊3', '方塊4', '方塊5', '方塊6', '方塊7', '方塊8', '方塊9', '方塊10', '方塊J', '方塊Q', '方塊k', '梅花A', '梅花2', '梅花3', '梅花4', '梅花5', '梅花6', '梅花7', '梅花8', '梅花9', '梅花10', '梅花J', '梅花Q', '梅花k']\n"
     ]
    },
    {
     "data": {
      "text/plain": [
       "['黑桃k', '梅花3', '梅花7', '方塊k', '黑桃4']"
      ]
     },
     "execution_count": 42,
     "metadata": {},
     "output_type": "execute_result"
    }
   ],
   "source": [
    "drawCards(5)"
   ]
  },
  {
   "cell_type": "code",
   "execution_count": null,
   "metadata": {
    "collapsed": true
   },
   "outputs": [],
   "source": []
  }
 ],
 "metadata": {
  "kernelspec": {
   "display_name": "Python 3",
   "language": "python",
   "name": "python3"
  },
  "language_info": {
   "codemirror_mode": {
    "name": "ipython",
    "version": 3
   },
   "file_extension": ".py",
   "mimetype": "text/x-python",
   "name": "python",
   "nbconvert_exporter": "python",
   "pygments_lexer": "ipython3",
   "version": "3.6.3"
  }
 },
 "nbformat": 4,
 "nbformat_minor": 2
}
