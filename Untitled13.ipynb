{
 "cells": [
  {
   "cell_type": "code",
   "execution_count": 1,
   "metadata": {},
   "outputs": [
    {
     "name": "stdout",
     "output_type": "stream",
     "text": [
      "35\n",
      "22\n",
      "1\n",
      "Cookies\tChocos\tcakes\t\n",
      "35 \t 25 \t 6 \t\n"
     ]
    }
   ],
   "source": [
    "cookies=int(input(\"\"))\n",
    "chocos=int(input(\"\"))\n",
    "cakes=int(input(\"\"))\n",
    "\n",
    "chocos2=chocos+1*(cookies//10) if cookies>=10 else chocos\n",
    "cakes2=cakes+1*(chocos2//5) if chocos2>=5 else cakes\n",
    "\n",
    "print(\"Cookies\\tChocos\\tcakes\\t\") \n",
    "#\\t是一個在後面留一個tab間的距離\n",
    "\n",
    "print(cookies,\"\\t\",chocos2,\"\\t\",cakes2,\"\\t\") #\\t是一個在後面留一個tab間的距離\n"
   ]
  },
  {
   "cell_type": "code",
   "execution_count": 3,
   "metadata": {},
   "outputs": [
    {
     "name": "stdout",
     "output_type": "stream",
     "text": [
      "35\n",
      "22\n",
      "1\n",
      "Cookies\tChocos\tcakes\t\n",
      "35\t25\t6\t\n"
     ]
    }
   ],
   "source": [
    "cookies=int(input(\"\"))\n",
    "chocos=int(input(\"\"))\n",
    "cakes=int(input(\"\"))\n",
    "\n",
    "chocos2=chocos+1*(cookies//10) if cookies>=10 else chocos\n",
    "cakes2=cakes+1*(chocos2//5) if chocos2>=5 else cakes\n",
    "\n",
    "print(\"Cookies\\tChocos\\tcakes\\t\",sep=\"\") \n",
    "#\\t是一個在後面留一個tab間的距離\n",
    "\n",
    "print(cookies,\"\\t\",chocos2,\"\\t\",cakes2,\"\\t\",sep=\"\") #\\t是一個在後面留一個tab間的距離\n"
   ]
  },
  {
   "cell_type": "code",
   "execution_count": 4,
   "metadata": {},
   "outputs": [
    {
     "name": "stdout",
     "output_type": "stream",
     "text": [
      "1\n",
      "2\n",
      "3\n",
      "4\n",
      "5\n",
      "6\n",
      "7\n",
      "8\n",
      "9\n",
      "10\n",
      "11\n",
      "12\n",
      "13\n",
      "14\n",
      "15\n",
      "16\n",
      "17\n",
      "18\n",
      "19\n",
      "20\n",
      "程序結束\n"
     ]
    }
   ],
   "source": [
    "i=1\n",
    "while i<=20:\n",
    "    print(i)\n",
    "    i+=1\n",
    "print(\"程序結束\")"
   ]
  },
  {
   "cell_type": "code",
   "execution_count": null,
   "metadata": {},
   "outputs": [],
   "source": [
    "end=int(input(\"請輸入一個整數：\"))\n",
    "i=1\n",
    "while i<=end:\n",
    "    print(i)\n",
    "    i+=1   "
   ]
  },
  {
   "cell_type": "code",
   "execution_count": null,
   "metadata": {
    "collapsed": true
   },
   "outputs": [],
   "source": []
  },
  {
   "cell_type": "code",
   "execution_count": null,
   "metadata": {
    "collapsed": true
   },
   "outputs": [],
   "source": []
  }
 ],
 "metadata": {
  "kernelspec": {
   "display_name": "Python 3",
   "language": "python",
   "name": "python3"
  },
  "language_info": {
   "codemirror_mode": {
    "name": "ipython",
    "version": 3
   },
   "file_extension": ".py",
   "mimetype": "text/x-python",
   "name": "python",
   "nbconvert_exporter": "python",
   "pygments_lexer": "ipython3",
   "version": "3.6.3"
  }
 },
 "nbformat": 4,
 "nbformat_minor": 2
}
