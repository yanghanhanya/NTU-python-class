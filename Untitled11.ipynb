{
 "cells": [
  {
   "cell_type": "code",
   "execution_count": null,
   "metadata": {},
   "outputs": [],
   "source": [
    "cookies=int(input(\"餅乾\"))\n",
    "chocos=int(input(\"巧克力\"))\n",
    "cakes=int(input(\"蛋糕\"))\n",
    "\n",
    "chocos2=chocos+1*(cookies//10) if cookies>=10 else chocos\n",
    "cakes2=cakes+1*(chocos2//5) if chocos2>=5 else cakes\n",
    "\n",
    "print(cookies,chocos2,cakes2)"
   ]
  },
  {
   "cell_type": "markdown",
   "metadata": {},
   "source": [
    "字串格式化 練習題"
   ]
  },
  {
   "cell_type": "code",
   "execution_count": null,
   "metadata": {},
   "outputs": [],
   "source": [
    "\"%16d\"%123456"
   ]
  },
  {
   "cell_type": "code",
   "execution_count": null,
   "metadata": {},
   "outputs": [],
   "source": [
    "fmt=\"金融卡密碼:%016d\"\n",
    "number=int(input(\"請輸入金融卡號碼：\"))\n",
    "s=fmt%number\n",
    "print(s)"
   ]
  },
  {
   "cell_type": "code",
   "execution_count": null,
   "metadata": {},
   "outputs": [],
   "source": [
    "fmt=\"%016d\"\n",
    "number=int(input(\"\"))\n",
    "s=fmt%number\n",
    "print(s)"
   ]
  },
  {
   "cell_type": "code",
   "execution_count": null,
   "metadata": {
    "collapsed": true
   },
   "outputs": [],
   "source": [
    "fmt=\"%016d\"\n",
    "number=int(input(\"\"))\n",
    "s=fmt%number\n",
    "print(s)"
   ]
  },
  {
   "cell_type": "code",
   "execution_count": null,
   "metadata": {
    "collapsed": true
   },
   "outputs": [],
   "source": [
    "cookies=int(input(\"餅乾\"))\n",
    "chocos=int(input(\"巧克力\"))\n",
    "cakes=int(input(\"蛋糕\"))\n",
    "\n",
    "chocos2=chocos+1*(cookies//10) if cookies>=10 else chocos\n",
    "cakes2=cakes+1*(chocos2//5) if chocos2>=5 else cakes\n",
    "\n",
    "print(cookies, end=\"\\t\",chocos2, end=\"\\t\",cakes2,end=\"\\t\") \n"
   ]
  },
  {
   "cell_type": "code",
   "execution_count": null,
   "metadata": {
    "collapsed": true
   },
   "outputs": [],
   "source": [
    "cookies=int(input(\"Cookies\"))\n",
    "chocos=int(input(\"Chocos\"))\n",
    "cakes=int(input(\"Cakes\"))\n",
    "\n",
    "chocos2=chocos+1*(cookies//10) if cookies>=10 else chocos\n",
    "cakes2=cakes+1*(chocos2//5) if chocos2>=5 else cakes\n",
    "\n",
    "print(\"Cookies\\tChocos\\tcakes\\t\") \n",
    "#\\t是一個在後面留一個tab間的距離\n",
    "\n",
    "print(cookies, \"\\t\",chocos2, \"\\t\",cakes2,\"\\t\") #\\t是一個在後面留一個tab間的距離\n"
   ]
  },
  {
   "cell_type": "code",
   "execution_count": null,
   "metadata": {
    "collapsed": true
   },
   "outputs": [],
   "source": []
  }
 ],
 "metadata": {
  "kernelspec": {
   "display_name": "Python 3",
   "language": "python",
   "name": "python3"
  },
  "language_info": {
   "codemirror_mode": {
    "name": "ipython",
    "version": 3
   },
   "file_extension": ".py",
   "mimetype": "text/x-python",
   "name": "python",
   "nbconvert_exporter": "python",
   "pygments_lexer": "ipython3",
   "version": "3.6.3"
  }
 },
 "nbformat": 4,
 "nbformat_minor": 2
}
