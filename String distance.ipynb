{
 "cells": [
  {
   "cell_type": "code",
   "execution_count": 112,
   "metadata": {},
   "outputs": [
    {
     "name": "stdout",
     "output_type": "stream",
     "text": [
      "ABCDAAEFeDaBDCBCBcBCbCBBd\n"
     ]
    }
   ],
   "source": [
    "import string\n",
    "n=str(input())\n",
    "n=n.lower()\n",
    "#print(n[2])"
   ]
  },
  {
   "cell_type": "code",
   "execution_count": 113,
   "metadata": {
    "scrolled": false
   },
   "outputs": [
    {
     "name": "stdout",
     "output_type": "stream",
     "text": [
      "A\n"
     ]
    }
   ],
   "source": [
    "c=str(input())\n",
    "c=c.lower()"
   ]
  },
  {
   "cell_type": "code",
   "execution_count": 114,
   "metadata": {},
   "outputs": [
    {
     "name": "stdout",
     "output_type": "stream",
     "text": [
      "4 1 5\n"
     ]
    }
   ],
   "source": [
    "apc=n.count(c) #要找的字符出現幾次\n",
    "counttime=1  #遇到次數\n",
    "countdis=0   #間隔\n",
    "a=0\n",
    "\n",
    "for i in range(0,len(n)):\n",
    "    p = ord (c)\n",
    "    q = ord (n[i])\n",
    "    if p==q :\n",
    "        if a==0:\n",
    "            a+=1\n",
    "        elif a!=0:\n",
    "            countdis+=1\n",
    "            if(counttime<apc-1): #不是最後一次的\n",
    "                print(countdis,end=\" \")\n",
    "                counttime+=1\n",
    "            elif(counttime==apc-1): #最後一次輸出\n",
    "                print(countdis)\n",
    "                counttime=1\n",
    "            countdis = 0\n",
    "    elif p!=q :\n",
    "        if a != 0:\n",
    "            countdis+=1\n",
    "        \n",
    "    "
   ]
  },
  {
   "cell_type": "markdown",
   "metadata": {},
   "source": [
    "方法二："
   ]
  },
  {
   "cell_type": "code",
   "execution_count": 115,
   "metadata": {},
   "outputs": [
    {
     "name": "stdout",
     "output_type": "stream",
     "text": [
      "Please input a str: ABCDAAEFeDaBDCBCBcBCbCBBd\n",
      "Please input a character: A\n",
      "4 1 5 "
     ]
    }
   ],
   "source": [
    "s = input(\"Please input a str: \").lower()\n",
    "ch = input(\"Please input a character: \").lower()\n",
    "pre = 0\n",
    "while True:\n",
    "    if s.find(ch) == -1:\n",
    "        break\n",
    "    index = s.find(ch)\n",
    "    if index - pre > 0:\n",
    "        print(index - pre, end=\" \")\n",
    "    pre = index\n",
    "    s = s.replace(ch, \" \", 1)"
   ]
  },
  {
   "cell_type": "code",
   "execution_count": null,
   "metadata": {
    "collapsed": true
   },
   "outputs": [],
   "source": []
  }
 ],
 "metadata": {
  "kernelspec": {
   "display_name": "Python 3",
   "language": "python",
   "name": "python3"
  },
  "language_info": {
   "codemirror_mode": {
    "name": "ipython",
    "version": 3
   },
   "file_extension": ".py",
   "mimetype": "text/x-python",
   "name": "python",
   "nbconvert_exporter": "python",
   "pygments_lexer": "ipython3",
   "version": "3.6.3"
  }
 },
 "nbformat": 4,
 "nbformat_minor": 2
}
