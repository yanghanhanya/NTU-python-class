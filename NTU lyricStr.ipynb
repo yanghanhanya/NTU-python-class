{
 "cells": [
  {
   "cell_type": "markdown",
   "metadata": {},
   "source": [
    "＃兩個字典的鍵值配對＃"
   ]
  },
  {
   "cell_type": "code",
   "execution_count": 2,
   "metadata": {},
   "outputs": [
    {
     "name": "stdout",
     "output_type": "stream",
     "text": [
      "2\n"
     ]
    }
   ],
   "source": [
    "n=int(input())"
   ]
  },
  {
   "cell_type": "code",
   "execution_count": 16,
   "metadata": {},
   "outputs": [
    {
     "name": "stdout",
     "output_type": "stream",
     "text": [
      "key0 2 P\n",
      "key0 2 Q\n"
     ]
    }
   ],
   "source": [
    "cateDict={}   #{\"P\":{\"key0\":2}},\"Q\":{\"key0\":2}\n",
    "cateLst=[]    #[\"P\",\"Q\"]\n",
    "for i in range(n):\n",
    "    rowLst=input().split() #切割也可split()\n",
    "    if not rowLst[-1] in cateLst:\n",
    "        cateLst.append(rowLst[-1])\n",
    "        cateDict[rowLst[-1]]={}    #{\"p\":{},\"Q\":{}}\n",
    "    cateDict[rowLst[-1]][rowLst[0]]=rowLst[1]"
   ]
  },
  {
   "cell_type": "code",
   "execution_count": 18,
   "metadata": {
    "collapsed": true
   },
   "outputs": [],
   "source": [
    "result=list(set(cateDict[cateLst[0]].items())& set(cateDict[cateLst[1]].items()))\n",
    "result.sort()\n",
    "#集合p字典 交集 集合Q字典  #加list才能排序"
   ]
  },
  {
   "cell_type": "code",
   "execution_count": null,
   "metadata": {
    "collapsed": true
   },
   "outputs": [],
   "source": [
    "result"
   ]
  },
  {
   "cell_type": "code",
   "execution_count": null,
   "metadata": {
    "collapsed": true
   },
   "outputs": [],
   "source": [
    "print(\"{}:{} is present in both {} and {}\".format(result[0][0],result[0][-1],\\\n",
    "                                                cateLst[0],cateLst[1]))"
   ]
  },
  {
   "cell_type": "code",
   "execution_count": 21,
   "metadata": {
    "collapsed": true
   },
   "outputs": [],
   "source": [
    "#最後一行改為for迴圈"
   ]
  },
  {
   "cell_type": "markdown",
   "metadata": {},
   "source": [
    "＃歌詞詞頻統計＃"
   ]
  },
  {
   "cell_type": "code",
   "execution_count": 1,
   "metadata": {
    "collapsed": true
   },
   "outputs": [],
   "source": [
    "fObj=open(\"/Users/yanghan/Desktop/let_it_be.txt\",\"r\")"
   ]
  },
  {
   "cell_type": "code",
   "execution_count": 2,
   "metadata": {
    "collapsed": true
   },
   "outputs": [],
   "source": [
    "lyric=\"\"\n",
    "while True:\n",
    "    line=fObj.readline()   #line=input()\n",
    "    if\"===\" in line:\n",
    "        break\n",
    "    lyric+=line"
   ]
  },
  {
   "cell_type": "code",
   "execution_count": 3,
   "metadata": {
    "collapsed": true
   },
   "outputs": [],
   "source": [
    "lyricStr=lyric.replace(\",\",\" \").replace(\":\",\" \").replace(\".\",\" \").replace(\"?\",\" \")\\\n",
    ".lower().replace(\"we're\",\"we are\").replace(\"i'd\",\"i would\") #把符號換成空行 .lower()把字串轉成小寫"
   ]
  },
  {
   "cell_type": "code",
   "execution_count": 15,
   "metadata": {
    "collapsed": true
   },
   "outputs": [],
   "source": [
    "lyricLst=lyricStr.split()\n",
    "lyricSet=set(lyricLst)   #轉成集合 就變成不重複項"
   ]
  },
  {
   "cell_type": "code",
   "execution_count": 16,
   "metadata": {},
   "outputs": [
    {
     "data": {
      "text/plain": [
       "{'a',\n",
       " 'agree',\n",
       " 'an',\n",
       " 'and',\n",
       " 'answer',\n",
       " 'be',\n",
       " 'broken',\n",
       " 'chance',\n",
       " 'cloudy',\n",
       " 'comes',\n",
       " 'darkness',\n",
       " 'find',\n",
       " 'for',\n",
       " 'front',\n",
       " 'hearted',\n",
       " 'hour',\n",
       " 'i',\n",
       " 'in',\n",
       " 'is',\n",
       " 'it',\n",
       " 'let',\n",
       " 'light',\n",
       " 'living',\n",
       " 'mary',\n",
       " 'may',\n",
       " 'me',\n",
       " 'mother',\n",
       " 'music',\n",
       " 'my',\n",
       " 'myself',\n",
       " 'night',\n",
       " 'of',\n",
       " 'on',\n",
       " 'parted',\n",
       " 'people',\n",
       " 'right',\n",
       " 'see',\n",
       " 'she',\n",
       " 'shine',\n",
       " 'shines',\n",
       " 'sound',\n",
       " 'speaking',\n",
       " 'standing',\n",
       " 'still',\n",
       " 'that',\n",
       " 'the',\n",
       " 'there',\n",
       " 'they',\n",
       " 'though',\n",
       " 'time',\n",
       " 'to',\n",
       " 'tomorrow',\n",
       " 'trouble',\n",
       " 'until',\n",
       " 'up',\n",
       " 'wake',\n",
       " 'when',\n",
       " 'whisper',\n",
       " 'will',\n",
       " 'wisdom',\n",
       " 'words',\n",
       " 'world',\n",
       " 'yeah'}"
      ]
     },
     "execution_count": 16,
     "metadata": {},
     "output_type": "execute_result"
    }
   ],
   "source": [
    "lyricSet #轉成集合"
   ]
  },
  {
   "cell_type": "code",
   "execution_count": 24,
   "metadata": {},
   "outputs": [
    {
     "ename": "NameError",
     "evalue": "name 'eachword' is not defined",
     "output_type": "error",
     "traceback": [
      "\u001b[0;31m---------------------------------------------------------------------------\u001b[0m",
      "\u001b[0;31mNameError\u001b[0m                                 Traceback (most recent call last)",
      "\u001b[0;32m<ipython-input-24-93ed10969742>\u001b[0m in \u001b[0;36m<module>\u001b[0;34m()\u001b[0m\n\u001b[1;32m      2\u001b[0m \u001b[0;32mfor\u001b[0m \u001b[0meachWord\u001b[0m \u001b[0;32min\u001b[0m \u001b[0mlyricSet\u001b[0m\u001b[0;34m:\u001b[0m\u001b[0;34m\u001b[0m\u001b[0m\n\u001b[1;32m      3\u001b[0m     \u001b[0mitemDict\u001b[0m\u001b[0;34m[\u001b[0m\u001b[0meachWord\u001b[0m\u001b[0;34m]\u001b[0m\u001b[0;34m=\u001b[0m\u001b[0mlyricLst\u001b[0m\u001b[0;34m.\u001b[0m\u001b[0mcount\u001b[0m\u001b[0;34m(\u001b[0m\u001b[0meachWord\u001b[0m\u001b[0;34m)\u001b[0m\u001b[0;34m\u001b[0m\u001b[0m\n\u001b[0;32m----> 4\u001b[0;31m \u001b[0mprint\u001b[0m\u001b[0;34m(\u001b[0m\u001b[0meachWord\u001b[0m\u001b[0;34m,\u001b[0m\u001b[0mlyricLst\u001b[0m\u001b[0;34m.\u001b[0m\u001b[0mcount\u001b[0m\u001b[0;34m(\u001b[0m\u001b[0meachword\u001b[0m\u001b[0;34m)\u001b[0m\u001b[0;34m)\u001b[0m\u001b[0;34m\u001b[0m\u001b[0m\n\u001b[0m",
      "\u001b[0;31mNameError\u001b[0m: name 'eachword' is not defined"
     ]
    }
   ],
   "source": [
    "itemDict={}\n",
    "for eachWord in lyricSet:\n",
    "    itemDict[eachWord]=lyricLst.count(eachWord)\n",
    "#print(eachWord,lyricLst.count(eachword))"
   ]
  },
  {
   "cell_type": "code",
   "execution_count": 25,
   "metadata": {},
   "outputs": [
    {
     "data": {
      "text/plain": [
       "{'a': 2,\n",
       " 'agree': 1,\n",
       " 'an': 3,\n",
       " 'and': 3,\n",
       " 'answer': 3,\n",
       " 'be': 20,\n",
       " 'broken': 1,\n",
       " 'chance': 1,\n",
       " 'cloudy': 1,\n",
       " 'comes': 2,\n",
       " 'darkness': 1,\n",
       " 'find': 1,\n",
       " 'for': 1,\n",
       " 'front': 1,\n",
       " 'hearted': 1,\n",
       " 'hour': 1,\n",
       " 'i': 2,\n",
       " 'in': 4,\n",
       " 'is': 4,\n",
       " 'it': 16,\n",
       " 'let': 16,\n",
       " 'light': 1,\n",
       " 'living': 1,\n",
       " 'mary': 2,\n",
       " 'may': 1,\n",
       " 'me': 4,\n",
       " 'mother': 2,\n",
       " 'music': 1,\n",
       " 'my': 1,\n",
       " 'myself': 1,\n",
       " 'night': 1,\n",
       " 'of': 8,\n",
       " 'on': 1,\n",
       " 'parted': 1,\n",
       " 'people': 1,\n",
       " 'right': 1,\n",
       " 'see': 1,\n",
       " 'she': 1,\n",
       " 'shine': 1,\n",
       " 'shines': 1,\n",
       " 'sound': 1,\n",
       " 'speaking': 3,\n",
       " 'standing': 1,\n",
       " 'still': 2,\n",
       " 'that': 2,\n",
       " 'the': 4,\n",
       " 'there': 5,\n",
       " 'they': 2,\n",
       " 'though': 1,\n",
       " 'time': 1,\n",
       " 'to': 3,\n",
       " 'tomorrow': 1,\n",
       " 'trouble': 1,\n",
       " 'until': 1,\n",
       " 'up': 1,\n",
       " 'wake': 1,\n",
       " 'when': 3,\n",
       " 'whisper': 1,\n",
       " 'will': 4,\n",
       " 'wisdom': 4,\n",
       " 'words': 4,\n",
       " 'world': 1,\n",
       " 'yeah': 1}"
      ]
     },
     "execution_count": 25,
     "metadata": {},
     "output_type": "execute_result"
    }
   ],
   "source": [
    "itemDict"
   ]
  },
  {
   "cell_type": "code",
   "execution_count": 26,
   "metadata": {},
   "outputs": [
    {
     "data": {
      "text/plain": [
       "dict_items([('will', 4), ('me', 4), ('whisper', 1), ('shines', 1), ('of', 8), ('she', 1), ('world', 1), ('an', 3), ('darkness', 1), ('i', 2), ('comes', 2), ('time', 1), ('agree', 1), ('find', 1), ('on', 1), ('sound', 1), ('front', 1), ('in', 4), ('is', 4), ('still', 2), ('mary', 2), ('when', 3), ('the', 4), ('that', 2), ('trouble', 1), ('people', 1), ('though', 1), ('may', 1), ('light', 1), ('myself', 1), ('mother', 2), ('be', 20), ('standing', 1), ('to', 3), ('there', 5), ('broken', 1), ('hearted', 1), ('until', 1), ('night', 1), ('cloudy', 1), ('answer', 3), ('wake', 1), ('let', 16), ('speaking', 3), ('it', 16), ('shine', 1), ('wisdom', 4), ('living', 1), ('hour', 1), ('parted', 1), ('up', 1), ('chance', 1), ('music', 1), ('they', 2), ('a', 2), ('and', 3), ('for', 1), ('tomorrow', 1), ('see', 1), ('my', 1), ('right', 1), ('yeah', 1), ('words', 4)])"
      ]
     },
     "execution_count": 26,
     "metadata": {},
     "output_type": "execute_result"
    }
   ],
   "source": [
    "itemDict.items()"
   ]
  },
  {
   "cell_type": "code",
   "execution_count": 28,
   "metadata": {
    "collapsed": true
   },
   "outputs": [],
   "source": [
    "s=list(itemDict.items())"
   ]
  },
  {
   "cell_type": "code",
   "execution_count": 29,
   "metadata": {
    "collapsed": true
   },
   "outputs": [],
   "source": [
    "s.sort()"
   ]
  },
  {
   "cell_type": "code",
   "execution_count": 32,
   "metadata": {},
   "outputs": [
    {
     "name": "stdout",
     "output_type": "stream",
     "text": [
      "a:2\n",
      "agree:1\n",
      "an:3\n",
      "and:3\n",
      "answer:3\n",
      "be:20\n",
      "broken:1\n",
      "chance:1\n",
      "cloudy:1\n",
      "comes:2\n",
      "darkness:1\n",
      "find:1\n",
      "for:1\n",
      "front:1\n",
      "hearted:1\n",
      "hour:1\n",
      "i:2\n",
      "in:4\n",
      "is:4\n",
      "it:16\n",
      "let:16\n",
      "light:1\n",
      "living:1\n",
      "mary:2\n",
      "may:1\n",
      "me:4\n",
      "mother:2\n",
      "music:1\n",
      "my:1\n",
      "myself:1\n",
      "night:1\n",
      "of:8\n",
      "on:1\n",
      "parted:1\n",
      "people:1\n",
      "right:1\n",
      "see:1\n",
      "she:1\n",
      "shine:1\n",
      "shines:1\n",
      "sound:1\n",
      "speaking:3\n",
      "standing:1\n",
      "still:2\n",
      "that:2\n",
      "the:4\n",
      "there:5\n",
      "they:2\n",
      "though:1\n",
      "time:1\n",
      "to:3\n",
      "tomorrow:1\n",
      "trouble:1\n",
      "until:1\n",
      "up:1\n",
      "wake:1\n",
      "when:3\n",
      "whisper:1\n",
      "will:4\n",
      "wisdom:4\n",
      "words:4\n",
      "world:1\n",
      "yeah:1\n"
     ]
    }
   ],
   "source": [
    "for each in s:\n",
    "    print(\"{}:{}\".format(s[s.index(each)][0],s[s.index(each)][1]))"
   ]
  },
  {
   "cell_type": "code",
   "execution_count": null,
   "metadata": {
    "collapsed": true
   },
   "outputs": [],
   "source": []
  },
  {
   "cell_type": "code",
   "execution_count": null,
   "metadata": {
    "collapsed": true
   },
   "outputs": [],
   "source": []
  }
 ],
 "metadata": {
  "kernelspec": {
   "display_name": "Python 3",
   "language": "python",
   "name": "python3"
  },
  "language_info": {
   "codemirror_mode": {
    "name": "ipython",
    "version": 3
   },
   "file_extension": ".py",
   "mimetype": "text/x-python",
   "name": "python",
   "nbconvert_exporter": "python",
   "pygments_lexer": "ipython3",
   "version": "3.6.3"
  }
 },
 "nbformat": 4,
 "nbformat_minor": 2
}
