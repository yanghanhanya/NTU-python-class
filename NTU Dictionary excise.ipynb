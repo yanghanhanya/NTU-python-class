{
 "cells": [
  {
   "cell_type": "code",
   "execution_count": 53,
   "metadata": {},
   "outputs": [
    {
     "name": "stdout",
     "output_type": "stream",
     "text": [
      "2018/01/02 USD 100 2018/01/04 USD 23\n"
     ]
    }
   ],
   "source": [
    "tt = input()"
   ]
  },
  {
   "cell_type": "code",
   "execution_count": 54,
   "metadata": {},
   "outputs": [
    {
     "data": {
      "text/plain": [
       "['2018-01-02', 'USD', '100', '2018-01-04', 'USD', '23']"
      ]
     },
     "execution_count": 54,
     "metadata": {},
     "output_type": "execute_result"
    }
   ],
   "source": [
    "tt.replace('/','-').split(' ')"
   ]
  },
  {
   "cell_type": "code",
   "execution_count": 55,
   "metadata": {},
   "outputs": [],
   "source": [
    "dic={}\n",
    "x=0\n",
    "for i in range(len(tt.replace('/','-').split(' '))):\n",
    "    if i%3 ==0:\n",
    "        dic[tt.replace('/','-').split(' ')[i]]=[tt.replace('/','-').split(' ')[i+1],int(tt.replace('/','-').split(' ')[i+2])]"
   ]
  },
  {
   "cell_type": "code",
   "execution_count": 56,
   "metadata": {
    "collapsed": true
   },
   "outputs": [],
   "source": [
    "import pandas \n",
    "def scrap(date):\n",
    "    dfs = pandas.read_html(\"https://rate.bot.com.tw/xrt/all/\"+ date )\n",
    "    dfs = dfs[0].iloc[:,[0,4]]\n",
    "    return dfs.set_index(dfs.columns[0])"
   ]
  },
  {
   "cell_type": "code",
   "execution_count": 57,
   "metadata": {
    "collapsed": true
   },
   "outputs": [],
   "source": [
    "TWD= 0\n",
    "for i in dic.keys():    \n",
    "    df = scrap(i)\n",
    "    for t in df.index:\n",
    "        if dic[i][0] in t:\n",
    "            TWD += round(float(df.loc[t])*dic[i][1])"
   ]
  },
  {
   "cell_type": "code",
   "execution_count": 59,
   "metadata": {},
   "outputs": [
    {
     "name": "stdout",
     "output_type": "stream",
     "text": [
      "3647\n"
     ]
    }
   ],
   "source": [
    "print(TWD)"
   ]
  },
  {
   "cell_type": "code",
   "execution_count": null,
   "metadata": {
    "collapsed": true
   },
   "outputs": [],
   "source": []
  }
 ],
 "metadata": {
  "kernelspec": {
   "display_name": "Python 3",
   "language": "python",
   "name": "python3"
  },
  "language_info": {
   "codemirror_mode": {
    "name": "ipython",
    "version": 3
   },
   "file_extension": ".py",
   "mimetype": "text/x-python",
   "name": "python",
   "nbconvert_exporter": "python",
   "pygments_lexer": "ipython3",
   "version": "3.6.3"
  }
 },
 "nbformat": 4,
 "nbformat_minor": 2
}
