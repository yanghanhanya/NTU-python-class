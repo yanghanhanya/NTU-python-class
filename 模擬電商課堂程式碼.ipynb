{
 "cells": [
  {
   "cell_type": "code",
   "execution_count": 8,
   "metadata": {
    "collapsed": true
   },
   "outputs": [],
   "source": [
    "import requests\n",
    "from pyquery import PyQuery as pq"
   ]
  },
  {
   "cell_type": "code",
   "execution_count": 9,
   "metadata": {
    "collapsed": true
   },
   "outputs": [],
   "source": [
    "response = requests.get(\"https://www.webscraper.io/test-sites/e-commerce/static\")"
   ]
  },
  {
   "cell_type": "code",
   "execution_count": 10,
   "metadata": {
    "collapsed": true
   },
   "outputs": [],
   "source": [
    "doc = pq(response.text)"
   ]
  },
  {
   "cell_type": "code",
   "execution_count": 18,
   "metadata": {},
   "outputs": [
    {
     "name": "stdout",
     "output_type": "stream",
     "text": [
      "http://webscraperio.us-east-1.elasticbeanstalk.com/test-sites/e-commerce/static/computers/laptops?page=2\n",
      "http://webscraperio.us-east-1.elasticbeanstalk.com/test-sites/e-commerce/static/computers/laptops?page=3\n",
      "http://webscraperio.us-east-1.elasticbeanstalk.com/test-sites/e-commerce/static/computers/laptops?page=4\n",
      "http://webscraperio.us-east-1.elasticbeanstalk.com/test-sites/e-commerce/static/computers/laptops?page=5\n",
      "http://webscraperio.us-east-1.elasticbeanstalk.com/test-sites/e-commerce/static/computers/laptops?page=6\n",
      "http://webscraperio.us-east-1.elasticbeanstalk.com/test-sites/e-commerce/static/computers/laptops?page=7\n",
      "http://webscraperio.us-east-1.elasticbeanstalk.com/test-sites/e-commerce/static/computers/laptops?page=8\n",
      "http://webscraperio.us-east-1.elasticbeanstalk.com/test-sites/e-commerce/static/computers/laptops?page=9\n",
      "http://webscraperio.us-east-1.elasticbeanstalk.com/test-sites/e-commerce/static/computers/laptops?page=10\n",
      "http://webscraperio.us-east-1.elasticbeanstalk.com/test-sites/e-commerce/static/computers/laptops?page=11\n",
      "http://webscraperio.us-east-1.elasticbeanstalk.com/test-sites/e-commerce/static/computers/laptops?page=12\n",
      "http://webscraperio.us-east-1.elasticbeanstalk.com/test-sites/e-commerce/static/computers/laptops?page=13\n",
      "http://webscraperio.us-east-1.elasticbeanstalk.com/test-sites/e-commerce/static/computers/laptops?page=14\n",
      "http://webscraperio.us-east-1.elasticbeanstalk.com/test-sites/e-commerce/static/computers/laptops?page=15\n",
      "http://webscraperio.us-east-1.elasticbeanstalk.com/test-sites/e-commerce/static/computers/laptops?page=16\n",
      "http://webscraperio.us-east-1.elasticbeanstalk.com/test-sites/e-commerce/static/computers/laptops?page=17\n",
      "http://webscraperio.us-east-1.elasticbeanstalk.com/test-sites/e-commerce/static/computers/laptops?page=18\n",
      "http://webscraperio.us-east-1.elasticbeanstalk.com/test-sites/e-commerce/static/computers/laptops?page=19\n",
      "http://webscraperio.us-east-1.elasticbeanstalk.com/test-sites/e-commerce/static/computers/laptops?page=20\n",
      "http://webscraperio.us-east-1.elasticbeanstalk.com/test-sites/e-commerce/static/computers/tablets?page=2\n",
      "http://webscraperio.us-east-1.elasticbeanstalk.com/test-sites/e-commerce/static/computers/tablets?page=3\n",
      "http://webscraperio.us-east-1.elasticbeanstalk.com/test-sites/e-commerce/static/computers/tablets?page=4\n",
      "http://webscraperio.us-east-1.elasticbeanstalk.com/test-sites/e-commerce/static/phones/touch?page=2\n"
     ]
    }
   ],
   "source": [
    "dataset = []\n",
    "doc.make_links_absolute(base_url=response.url)\n",
    "for eachMainDoc in doc(\"#side-menu > li:nth-child(n+2) > a\").items():\n",
    "#     print(eachMainDoc.attr(\"href\"))\n",
    "    mainCateDoc = pq(eachMainDoc.attr(\"href\"))\n",
    "    mainCateDoc.make_links_absolute()\n",
    "    for eachSubDoc in mainCateDoc(\"#side-menu .subcategory-link\").items():\n",
    "#         print(eachSubDoc.attr(\"href\"))\n",
    "        subCateDoc = pq(eachSubDoc.attr(\"href\"))\n",
    "        # lvl 2-----\n",
    "#         print(len(subCateDoc(\".thumbnail\")), subCateDoc(\".thumbnail\").text())\n",
    "        while True:\n",
    "            for eachItemDoc in subCateDoc(\".thumbnail\").items():\n",
    "                itemDict = {}\n",
    "                itemDict[\"title\"] = eachItemDoc(\".title\").text().rstrip(\".\")\n",
    "                itemDict['price'] = float(eachItemDoc(\".price\").text().replace(\"$\",\"\"))\n",
    "                itemDict[\"stars\"] = int(eachItemDoc(\".ratings p:nth-child(2)\")\\\n",
    "                                        .attr(\"data-rating\"))\n",
    "                dataset.append(itemDict)\n",
    "            if not subCateDoc(\".pagination>li.active\").next()(\"a\").attr(\"href\"):\n",
    "                break\n",
    "            print(subCateDoc(\".pagination>li.active\").next()(\"a\").attr(\"href\"))\n",
    "            subCateDoc = pq(subCateDoc(\".pagination>li.active\").next()(\"a\").attr(\"href\"))"
   ]
  },
  {
   "cell_type": "code",
   "execution_count": 20,
   "metadata": {},
   "outputs": [
    {
     "data": {
      "text/plain": [
       "(147,\n",
       " [{'title': 'Packard 255 G2', 'price': 416.99, 'stars': 2},\n",
       "  {'title': 'Aspire E1-510', 'price': 306.99, 'stars': 3},\n",
       "  {'title': 'ThinkPad T540p', 'price': 1178.99, 'stars': 1},\n",
       "  {'title': 'ProBook', 'price': 739.99, 'stars': 4},\n",
       "  {'title': 'ThinkPad X240', 'price': 1311.99, 'stars': 3},\n",
       "  {'title': 'Aspire E1-572G', 'price': 581.99, 'stars': 1},\n",
       "  {'title': 'ThinkPad Yoga', 'price': 1033.99, 'stars': 2},\n",
       "  {'title': 'Pavilion', 'price': 609.99, 'stars': 1},\n",
       "  {'title': 'Inspiron 15', 'price': 745.99, 'stars': 3},\n",
       "  {'title': 'Dell XPS 13', 'price': 1281.99, 'stars': 3},\n",
       "  {'title': 'ThinkPad X230', 'price': 1244.99, 'stars': 3},\n",
       "  {'title': 'HP 250 G3', 'price': 520.99, 'stars': 2},\n",
       "  {'title': 'ThinkPad Yoga', 'price': 1223.99, 'stars': 3},\n",
       "  {'title': 'HP 350 G1', 'price': 577.99, 'stars': 2},\n",
       "  {'title': 'Asus VivoBook Ma', 'price': 399.0, 'stars': 1},\n",
       "  {'title': 'Dell Vostro 15', 'price': 488.78, 'stars': 4},\n",
       "  {'title': 'Acer Spin 5', 'price': 564.98, 'stars': 2},\n",
       "  {'title': 'Acer Aspire A515', 'price': 679.0, 'stars': 2},\n",
       "  {'title': 'Dell Inspiron 15', 'price': 679.0, 'stars': 2},\n",
       "  {'title': 'Asus VivoBook S1', 'price': 729.0, 'stars': 1},\n",
       "  {'title': 'Asus ROG STRIX G', 'price': 799.0, 'stars': 2},\n",
       "  {'title': 'Acer Nitro 5 AN5', 'price': 809.0, 'stars': 1},\n",
       "  {'title': 'Asus ROG STRIX G', 'price': 899.0, 'stars': 1},\n",
       "  {'title': 'Lenovo ThinkPad', 'price': 999.0, 'stars': 3},\n",
       "  {'title': 'Lenovo Legion Y5', 'price': 1149.0, 'stars': 3},\n",
       "  {'title': 'Lenovo Legion Y7', 'price': 1399.0, 'stars': 3},\n",
       "  {'title': 'Asus ROG Strix G', 'price': 1769.0, 'stars': 4},\n",
       "  {'title': 'Asus ROG Strix G', 'price': 1769.0, 'stars': 1},\n",
       "  {'title': 'Asus ROG Strix S', 'price': 1799.0, 'stars': 3},\n",
       "  {'title': 'Asus VivoBook X4', 'price': 295.99, 'stars': 3},\n",
       "  {'title': 'Prestigio SmartB', 'price': 299.0, 'stars': 2},\n",
       "  {'title': 'Prestigio SmartB', 'price': 299.0, 'stars': 4},\n",
       "  {'title': 'Lenovo V110-15IA', 'price': 321.94, 'stars': 3},\n",
       "  {'title': 'Lenovo V110-15IA', 'price': 356.49, 'stars': 2},\n",
       "  {'title': 'Hewlett Packard', 'price': 364.46, 'stars': 1},\n",
       "  {'title': 'Acer Aspire 3 A3', 'price': 372.7, 'stars': 2},\n",
       "  {'title': 'Acer Aspire A315', 'price': 379.94, 'stars': 2},\n",
       "  {'title': 'Acer Aspire ES1-', 'price': 379.95, 'stars': 4},\n",
       "  {'title': 'Acer Aspire 3 A3', 'price': 391.48, 'stars': 4},\n",
       "  {'title': 'Acer Aspire 3 A3', 'price': 393.88, 'stars': 3},\n",
       "  {'title': 'Asus VivoBook E5', 'price': 399.99, 'stars': 4},\n",
       "  {'title': 'Lenovo ThinkPad', 'price': 404.23, 'stars': 1},\n",
       "  {'title': 'Acer Aspire 3 A3', 'price': 408.98, 'stars': 4},\n",
       "  {'title': 'Lenovo V110-15IS', 'price': 409.63, 'stars': 3},\n",
       "  {'title': 'Acer Aspire ES1-', 'price': 410.46, 'stars': 4},\n",
       "  {'title': 'Asus VivoBook 15', 'price': 410.66, 'stars': 4},\n",
       "  {'title': 'Asus EeeBook R41', 'price': 433.3, 'stars': 1},\n",
       "  {'title': 'Acer Aspire 3 A3', 'price': 436.29, 'stars': 1},\n",
       "  {'title': 'Acer Aspire ES1-', 'price': 436.29, 'stars': 1},\n",
       "  {'title': 'Acer Extensa 15', 'price': 439.73, 'stars': 4},\n",
       "  {'title': 'Acer Aspire ES1-', 'price': 454.62, 'stars': 1},\n",
       "  {'title': 'Lenovo V110-15IS', 'price': 454.73, 'stars': 2},\n",
       "  {'title': 'Acer Aspire A315', 'price': 457.38, 'stars': 3},\n",
       "  {'title': 'Lenovo V110-15IK', 'price': 465.95, 'stars': 1},\n",
       "  {'title': 'Asus VivoBook 15', 'price': 468.56, 'stars': 3},\n",
       "  {'title': 'Acer Aspire ES1-', 'price': 469.1, 'stars': 3},\n",
       "  {'title': 'Lenovo V510 Blac', 'price': 484.23, 'stars': 3},\n",
       "  {'title': 'Acer Aspire ES1-', 'price': 485.9, 'stars': 3},\n",
       "  {'title': 'Lenovo V510 Blac', 'price': 487.8, 'stars': 2},\n",
       "  {'title': 'Acer Swift 1 SF1', 'price': 488.64, 'stars': 3},\n",
       "  {'title': 'Acer Aspire 3 A3', 'price': 494.71, 'stars': 4},\n",
       "  {'title': 'Dell Vostro 15 (', 'price': 497.17, 'stars': 1},\n",
       "  {'title': 'Lenovo V510 Blac', 'price': 498.23, 'stars': 3},\n",
       "  {'title': 'Lenovo ThinkPad', 'price': 1096.02, 'stars': 4},\n",
       "  {'title': 'Dell Inspiron 15', 'price': 1098.42, 'stars': 1},\n",
       "  {'title': 'MSI GL72M 7RDX', 'price': 1099.0, 'stars': 4},\n",
       "  {'title': 'MSI GL72M 7RDX', 'price': 1099.0, 'stars': 1},\n",
       "  {'title': 'Asus ROG Strix G', 'price': 1101.83, 'stars': 2},\n",
       "  {'title': 'Dell Latitude 52', 'price': 1102.66, 'stars': 1},\n",
       "  {'title': 'Dell Latitude 54', 'price': 1110.14, 'stars': 3},\n",
       "  {'title': 'Lenovo Legion Y5', 'price': 1112.91, 'stars': 4},\n",
       "  {'title': 'Toshiba Portege', 'price': 1114.55, 'stars': 1},\n",
       "  {'title': 'Acer Predator He', 'price': 1123.87, 'stars': 2},\n",
       "  {'title': 'Acer Aspire 7 A7', 'price': 1123.87, 'stars': 2},\n",
       "  {'title': 'Dell Inspiron 17', 'price': 1124.2, 'stars': 3},\n",
       "  {'title': 'Dell Latitude 54', 'price': 1133.82, 'stars': 4},\n",
       "  {'title': 'Lenovo Legion Y5', 'price': 1133.91, 'stars': 1},\n",
       "  {'title': 'Asus AsusPro Adv', 'price': 1139.54, 'stars': 3},\n",
       "  {'title': 'Acer Nitro 5 AN5', 'price': 1140.62, 'stars': 3},\n",
       "  {'title': 'Dell Latitude 54', 'price': 1143.4, 'stars': 4},\n",
       "  {'title': 'Dell Inspiron 15', 'price': 1144.2, 'stars': 1},\n",
       "  {'title': 'Dell Latitude 55', 'price': 1144.4, 'stars': 3},\n",
       "  {'title': 'MSI GP62M 7RDX L', 'price': 1149.0, 'stars': 1},\n",
       "  {'title': 'Lenovo Yoga 720', 'price': 1149.73, 'stars': 2},\n",
       "  {'title': 'Toshiba Portege', 'price': 1154.04, 'stars': 1},\n",
       "  {'title': 'Acer TravelMate', 'price': 1170.1, 'stars': 1},\n",
       "  {'title': 'Dell Latitude 55', 'price': 1178.19, 'stars': 3},\n",
       "  {'title': 'MSI GS63 7RD Ste', 'price': 1179.0, 'stars': 1},\n",
       "  {'title': 'Dell Latitude 54', 'price': 1187.88, 'stars': 3},\n",
       "  {'title': 'Acer Predator He', 'price': 1187.98, 'stars': 3},\n",
       "  {'title': 'MSI GL62M 7REX', 'price': 1199.0, 'stars': 1},\n",
       "  {'title': 'MSI GL62M 7REX2', 'price': 1199.0, 'stars': 2},\n",
       "  {'title': 'Lenovo Yoga 910', 'price': 1199.73, 'stars': 3},\n",
       "  {'title': 'Toshiba Portege', 'price': 1203.41, 'stars': 4},\n",
       "  {'title': 'Lenovo IdeaPad M', 'price': 1212.16, 'stars': 4},\n",
       "  {'title': 'Acer Predator He', 'price': 1221.58, 'stars': 1},\n",
       "  {'title': 'Asus VivoBook Pr', 'price': 1235.49, 'stars': 2},\n",
       "  {'title': 'Dell Latitude 54', 'price': 1238.37, 'stars': 2},\n",
       "  {'title': 'Asus ZenBook UX5', 'price': 1239.2, 'stars': 1},\n",
       "  {'title': 'Asus ROG Strix G', 'price': 1259.0, 'stars': 4},\n",
       "  {'title': 'Apple MacBook Ai', 'price': 1260.13, 'stars': 4},\n",
       "  {'title': 'Dell Latitude 54', 'price': 1271.06, 'stars': 1},\n",
       "  {'title': 'Hewlett Packard', 'price': 1273.11, 'stars': 3},\n",
       "  {'title': 'Toshiba Portege', 'price': 1294.74, 'stars': 1},\n",
       "  {'title': 'MSI GL62VR 7RFX', 'price': 1299.0, 'stars': 3},\n",
       "  {'title': 'Dell Latitude 54', 'price': 1310.39, 'stars': 3},\n",
       "  {'title': 'Hewlett Packard', 'price': 1326.83, 'stars': 1},\n",
       "  {'title': 'Apple MacBook Pr', 'price': 1333.0, 'stars': 1},\n",
       "  {'title': 'Dell Latitude 55', 'price': 1337.28, 'stars': 1},\n",
       "  {'title': 'Dell Latitude 54', 'price': 1338.37, 'stars': 2},\n",
       "  {'title': 'Dell Latitude 55', 'price': 1341.22, 'stars': 3},\n",
       "  {'title': 'Apple MacBook Ai', 'price': 1347.78, 'stars': 2},\n",
       "  {'title': 'Lenovo ThinkPad', 'price': 1349.23, 'stars': 1},\n",
       "  {'title': 'Lenovo ThinkPad', 'price': 1362.24, 'stars': 2},\n",
       "  {'title': 'Toshiba Portege', 'price': 1366.32, 'stars': 1},\n",
       "  {'title': 'Asus ASUSPRO B94', 'price': 1381.13, 'stars': 1},\n",
       "  {'title': 'Asus ROG Strix G', 'price': 1399.0, 'stars': 3},\n",
       "  {'title': 'Lenovo IdeaTab', 'price': 69.99, 'stars': 3},\n",
       "  {'title': 'Acer Iconia', 'price': 96.99, 'stars': 1},\n",
       "  {'title': 'Asus MeMO Pad', 'price': 102.99, 'stars': 4},\n",
       "  {'title': 'Amazon Kindle', 'price': 103.99, 'stars': 4},\n",
       "  {'title': 'iPad Mini Retina', 'price': 537.99, 'stars': 2},\n",
       "  {'title': 'IdeaTab A3500L', 'price': 88.99, 'stars': 4},\n",
       "  {'title': 'Galaxy Tab', 'price': 251.99, 'stars': 3},\n",
       "  {'title': 'IdeaTab A3500-H', 'price': 148.99, 'stars': 2},\n",
       "  {'title': 'Galaxy Tab 3', 'price': 97.99, 'stars': 2},\n",
       "  {'title': 'Galaxy Note', 'price': 489.99, 'stars': 3},\n",
       "  {'title': 'MeMO Pad 7', 'price': 130.99, 'stars': 1},\n",
       "  {'title': 'Galaxy Tab 4', 'price': 233.99, 'stars': 4},\n",
       "  {'title': 'Galaxy Tab 3', 'price': 107.99, 'stars': 2},\n",
       "  {'title': 'Memo Pad HD 7', 'price': 101.99, 'stars': 2},\n",
       "  {'title': 'Galaxy Note 10.1', 'price': 587.99, 'stars': 2},\n",
       "  {'title': 'MeMo PAD FHD 10', 'price': 320.99, 'stars': 2},\n",
       "  {'title': 'IdeaTab S5000', 'price': 172.99, 'stars': 3},\n",
       "  {'title': 'Iconia B1-730HD', 'price': 99.99, 'stars': 3},\n",
       "  {'title': 'IdeaTab A8-50', 'price': 121.99, 'stars': 2},\n",
       "  {'title': 'Galaxy Note', 'price': 399.99, 'stars': 4},\n",
       "  {'title': 'Apple iPad Air', 'price': 603.99, 'stars': 3},\n",
       "  {'title': 'Nokia 123', 'price': 24.99, 'stars': 3},\n",
       "  {'title': 'LG Optimus', 'price': 57.99, 'stars': 3},\n",
       "  {'title': 'Samsung Galaxy', 'price': 93.99, 'stars': 3},\n",
       "  {'title': 'Nokia X', 'price': 109.99, 'stars': 4},\n",
       "  {'title': 'Sony Xperia', 'price': 118.99, 'stars': 1},\n",
       "  {'title': 'Ubuntu Edge', 'price': 499.99, 'stars': 1},\n",
       "  {'title': 'Iphone', 'price': 899.99, 'stars': 1},\n",
       "  {'title': 'Iphone', 'price': 899.99, 'stars': 2},\n",
       "  {'title': 'Iphone', 'price': 899.99, 'stars': 1}])"
      ]
     },
     "execution_count": 20,
     "metadata": {},
     "output_type": "execute_result"
    }
   ],
   "source": [
    "len(dataset),dataset"
   ]
  },
  {
   "cell_type": "code",
   "execution_count": null,
   "metadata": {
    "collapsed": true
   },
   "outputs": [],
   "source": []
  },
  {
   "cell_type": "code",
   "execution_count": null,
   "metadata": {
    "collapsed": true
   },
   "outputs": [],
   "source": []
  },
  {
   "cell_type": "code",
   "execution_count": null,
   "metadata": {
    "collapsed": true
   },
   "outputs": [],
   "source": []
  },
  {
   "cell_type": "code",
   "execution_count": null,
   "metadata": {
    "collapsed": true
   },
   "outputs": [],
   "source": []
  },
  {
   "cell_type": "code",
   "execution_count": null,
   "metadata": {
    "collapsed": true
   },
   "outputs": [],
   "source": []
  },
  {
   "cell_type": "code",
   "execution_count": null,
   "metadata": {
    "collapsed": true
   },
   "outputs": [],
   "source": []
  }
 ],
 "metadata": {
  "kernelspec": {
   "display_name": "Python 3",
   "language": "python",
   "name": "python3"
  },
  "language_info": {
   "codemirror_mode": {
    "name": "ipython",
    "version": 3
   },
   "file_extension": ".py",
   "mimetype": "text/x-python",
   "name": "python",
   "nbconvert_exporter": "python",
   "pygments_lexer": "ipython3",
   "version": "3.6.3"
  }
 },
 "nbformat": 4,
 "nbformat_minor": 2
}
