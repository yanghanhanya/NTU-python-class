{
 "cells": [
  {
   "cell_type": "code",
   "execution_count": 3,
   "metadata": {
    "collapsed": true
   },
   "outputs": [],
   "source": [
    "a=1\n",
    "b=2"
   ]
  },
  {
   "cell_type": "code",
   "execution_count": 4,
   "metadata": {},
   "outputs": [
    {
     "data": {
      "text/plain": [
       "1"
      ]
     },
     "execution_count": 4,
     "metadata": {},
     "output_type": "execute_result"
    }
   ],
   "source": [
    "a"
   ]
  },
  {
   "cell_type": "code",
   "execution_count": 5,
   "metadata": {},
   "outputs": [
    {
     "data": {
      "text/plain": [
       "2"
      ]
     },
     "execution_count": 5,
     "metadata": {},
     "output_type": "execute_result"
    }
   ],
   "source": [
    "b"
   ]
  },
  {
   "cell_type": "code",
   "execution_count": 7,
   "metadata": {
    "collapsed": true
   },
   "outputs": [],
   "source": [
    "c=a+b"
   ]
  },
  {
   "cell_type": "code",
   "execution_count": 8,
   "metadata": {},
   "outputs": [
    {
     "data": {
      "text/plain": [
       "3"
      ]
     },
     "execution_count": 8,
     "metadata": {},
     "output_type": "execute_result"
    }
   ],
   "source": [
    "c"
   ]
  },
  {
   "cell_type": "code",
   "execution_count": 9,
   "metadata": {},
   "outputs": [
    {
     "name": "stdout",
     "output_type": "stream",
     "text": [
      "3\n"
     ]
    }
   ],
   "source": [
    "print(c)"
   ]
  },
  {
   "cell_type": "code",
   "execution_count": 10,
   "metadata": {
    "collapsed": true
   },
   "outputs": [],
   "source": [
    "chinese=90\n",
    "math=80\n",
    "eng=85"
   ]
  },
  {
   "cell_type": "code",
   "execution_count": 11,
   "metadata": {
    "collapsed": true
   },
   "outputs": [],
   "source": [
    "sum=int(chinese)+int(math)+int(eng)"
   ]
  },
  {
   "cell_type": "code",
   "execution_count": 12,
   "metadata": {
    "collapsed": true
   },
   "outputs": [],
   "source": [
    "average=sum/3"
   ]
  },
  {
   "cell_type": "code",
   "execution_count": 13,
   "metadata": {},
   "outputs": [
    {
     "name": "stdout",
     "output_type": "stream",
     "text": [
      "85.0\n"
     ]
    }
   ],
   "source": [
    "print(average)"
   ]
  },
  {
   "cell_type": "code",
   "execution_count": 15,
   "metadata": {},
   "outputs": [
    {
     "name": "stdout",
     "output_type": "stream",
     "text": [
      "請輸入成績60\n",
      "丁等\n"
     ]
    }
   ],
   "source": [
    "score=input(\"請輸入成績\")\n",
    "if(int(score)>=90):\n",
    "    print(\"優等\")\n",
    "elif(int(score)>=80):\n",
    "    print(\"甲等\")\n",
    "else:\n",
    "    print(\"丁等\")\n",
    "    "
   ]
  },
  {
   "cell_type": "code",
   "execution_count": 17,
   "metadata": {},
   "outputs": [
    {
     "name": "stdout",
     "output_type": "stream",
     "text": [
      "85\n",
      "79\n",
      "93\n"
     ]
    }
   ],
   "source": [
    "score=[85,79,93]\n",
    "print(score[0])\n",
    "print(score[1])\n",
    "print(score[2])\n"
   ]
  },
  {
   "cell_type": "code",
   "execution_count": 18,
   "metadata": {},
   "outputs": [
    {
     "name": "stdout",
     "output_type": "stream",
     "text": [
      "93\n",
      "79\n",
      "85\n"
     ]
    }
   ],
   "source": [
    "print(score[-1])\n",
    "print(score[-2])\n",
    "print(score[-3])"
   ]
  },
  {
   "cell_type": "code",
   "execution_count": 23,
   "metadata": {},
   "outputs": [
    {
     "data": {
      "text/plain": [
       "range(3, 8)"
      ]
     },
     "execution_count": 23,
     "metadata": {},
     "output_type": "execute_result"
    }
   ],
   "source": [
    "list1=range(3,8)\n",
    "list1"
   ]
  },
  {
   "cell_type": "code",
   "execution_count": 24,
   "metadata": {},
   "outputs": [
    {
     "data": {
      "text/plain": [
       "range(3, 8)"
      ]
     },
     "execution_count": 24,
     "metadata": {},
     "output_type": "execute_result"
    }
   ],
   "source": [
    "range(3,8)"
   ]
  },
  {
   "cell_type": "code",
   "execution_count": 25,
   "metadata": {},
   "outputs": [
    {
     "ename": "IndentationError",
     "evalue": "expected an indented block (<ipython-input-25-0f67b278cb7a>, line 2)",
     "output_type": "error",
     "traceback": [
      "\u001b[0;36m  File \u001b[0;32m\"<ipython-input-25-0f67b278cb7a>\"\u001b[0;36m, line \u001b[0;32m2\u001b[0m\n\u001b[0;31m    print(i)\u001b[0m\n\u001b[0m        ^\u001b[0m\n\u001b[0;31mIndentationError\u001b[0m\u001b[0;31m:\u001b[0m expected an indented block\n"
     ]
    }
   ],
   "source": [
    "for i in range(1,31):\n"
   ]
  },
  {
   "cell_type": "code",
   "execution_count": 34,
   "metadata": {},
   "outputs": [
    {
     "name": "stdout",
     "output_type": "stream",
     "text": [
      "請輸入正整數：100\n",
      "(100, 5050)\n"
     ]
    }
   ],
   "source": [
    "sum=0\n",
    "n=int(input(\"請輸入正整數：\"))\n",
    "for i in range(1,n+1):\n",
    "    sum+=i\n",
    "print((n,sum))"
   ]
  },
  {
   "cell_type": "code",
   "execution_count": 47,
   "metadata": {},
   "outputs": [
    {
     "name": "stdout",
     "output_type": "stream",
     "text": [
      "1*1=1 1*2=2 1*3=3 1*4=4 1*5=5 1*6=6 1*7=7 1*8=8 1*9=9 2*1=2 2*2=4 2*3=6 2*4=8 2*5=10 2*6=12 2*7=14 2*8=16 2*9=18 3*1=3 3*2=6 3*3=9 3*4=12 3*5=15 3*6=18 3*7=21 3*8=24 3*9=27 4*1=4 4*2=8 4*3=12 4*4=16 4*5=20 4*6=24 4*7=28 4*8=32 4*9=36 5*1=5 5*2=10 5*3=15 5*4=20 5*5=25 5*6=30 5*7=35 5*8=40 5*9=45 6*1=6 6*2=12 6*3=18 6*4=24 6*5=30 6*6=36 6*7=42 6*8=48 6*9=54 7*1=7 7*2=14 7*3=21 7*4=28 7*5=35 7*6=42 7*7=49 7*8=56 7*9=63 8*1=8 8*2=16 8*3=24 8*4=32 8*5=40 8*6=48 8*7=56 8*8=64 8*9=72 9*1=9 9*2=18 9*3=27 9*4=36 9*5=45 9*6=54 9*7=63 9*8=72 9*9=81 "
     ]
    }
   ],
   "source": [
    "for i in range(1,10):\n",
    "    for j in range(1,10):\n",
    "        product=i*j\n",
    "        print(\"%d*%d=%d\"%(i,j,product),end=\" \")\n",
    "        "
   ]
  },
  {
   "cell_type": "code",
   "execution_count": 49,
   "metadata": {},
   "outputs": [
    {
     "name": "stdout",
     "output_type": "stream",
     "text": [
      "1 2 3 4 5 "
     ]
    }
   ],
   "source": [
    "for i in range(1,11):\n",
    "    if(i==6):\n",
    "        break\n",
    "    print(i,end=\" \")"
   ]
  },
  {
   "cell_type": "code",
   "execution_count": 51,
   "metadata": {},
   "outputs": [
    {
     "name": "stdout",
     "output_type": "stream",
     "text": [
      "1 2 3 4 5 7 8 9 10 "
     ]
    }
   ],
   "source": [
    "for i in range (1,11):\n",
    "    if(i==6):\n",
    "        continue\n",
    "    print(i,end=\" \")\n"
   ]
  },
  {
   "cell_type": "code",
   "execution_count": 111,
   "metadata": {},
   "outputs": [
    {
     "name": "stdout",
     "output_type": "stream",
     "text": [
      "Hello,Yang Han,nice to meet you!\n"
     ]
    }
   ],
   "source": [
    "firstname=\"Han\"\n",
    "lastname=\"Yang\"\n",
    "fullname=lastname+\" \"+firstname\n",
    "print(\"Hello,\"+fullname+\",nice to meet you!\")"
   ]
  },
  {
   "cell_type": "code",
   "execution_count": 82,
   "metadata": {
    "collapsed": true
   },
   "outputs": [],
   "source": [
    "import requests\n",
    "from pyquery import PyQuery as pq"
   ]
  },
  {
   "cell_type": "code",
   "execution_count": 97,
   "metadata": {
    "collapsed": true
   },
   "outputs": [],
   "source": [
    "res=requests.get(\"https://www.xiaohongshu.com/discovery/item/5a07e1aac8e55d3c83a8135b?related=true&_at=40e00abb7998cb50bbfc3a90082e3686ceaf0\")"
   ]
  },
  {
   "cell_type": "code",
   "execution_count": 98,
   "metadata": {},
   "outputs": [
    {
     "data": {
      "text/plain": [
       "'<!DOCTYPE html><html>\\n  <head>\\n    <meta charset=\"utf-8\">\\n    <meta name=\"viewport\" content=\"width=device-width,initial-scale=1,minimum-scale=1,maximum-scale=1,user-scalable=no,viewport-fit=cover\">\\n    <title>小红书</title>\\n    <script src=\"//s.xiaohongshu.com/owl/public/2.10/owlLite.js\" crossorigin></script>\\n    <script type=\"text/javascript\">\\n      window.APPID = \\'xhs_jump\\'\\n      window.CATEGORY = \\'jump\\'\\n      var t = new Date()\\n      function getPC() {\\n        if ((navigator.userAgent.match(/(phone|pad|pod|iPhone|iPod|ios|iPad|Android|Mobile|BlackBerry|IEMobile|MQQBrowser|JUC|Fennec|wOSBrowser|BrowserNG|WebOS|Symbian|Windows Phone)/i))) {\\n          return \\'mobile\\'\\n        } else {\\n          return \\'pc\\'\\n        }\\n      }\\n      function setURLQueryAndJump(key, value) {\\n        if (location.href.search(key) === -1) {\\n          next = location.href  + (location.href.search(/\\\\?/) > -1 ? \\'&\\' : \\'?\\') + key + \\'=\\' + value\\n          location.replace(next)\\n        } else {\\n          next = location.href.replace(new RegExp(key + \\'=([a-z0-9]+)\\'), key + \\'=\\' + value)\\n          location.replace(next)\\n        }\\n\\n        setTimeout(function(){\\n          var obj = document.getElementById(\\'info\\');\\n          obj.innerHTML = \\'未自动跳转? <a href=\"\\' + next + \\'\">点击刷新</a>\\';\\n        }, 2000)\\n      }\\n      window[\\'__abbaidu_20180315_lidscore\\'] = function(lid, score) {\\n        var next = \\'\\'\\n        if (score != 100) {\\n          var task = setInterval(function(){\\n              if (initSMCaptcha) {\\n                initSMCaptcha({\\n                  organization: \\'eR46sBuqF0fdw7KWFLYa\\',\\n                  channle: \\'mzhan\\',\\n                  width: getPC() !== \\'pc\\' ? \\'80%\\' : \\'400px\\',\\n                  product: \\'popup\\'\\n                }, function(instance){\\n                  instance.onReady(function(){\\n                    instance.verify();\\n\\n                    var obj =document.getElementById(\\'loading\\')\\n                    if (obj) obj.remove();\\n                  });\\n                  instance.onSuccess(function(data){\\n                    if (!data.pass) {return}\\n                    setURLQueryAndJump(\\'_rd\\', data.rid)\\n                  });\\n                });\\n                clearInterval(task)\\n              }\\n          }, 200)\\n        } else {\\n          setURLQueryAndJump(\\'_at\\', lid)\\n        }\\n      };\\n    </script>\\n  </head>\\n  <body>\\n    <style>\\n      img {\\n        width: 40px;\\n        margin: 40px auto;\\n        display: block;\\n      }\\n      h4 {\\n        text-align: center;\\n      }\\n      a {\\n        text-decoration: underline;\\n        color: cornflowerblue;\\n      }\\n    </style>\\n    <div></div>\\n    <img id=\"loading\" src=\"//ci.xiaohongshu.com/1108c183-6758-45ab-8cfd-e6b9d1e2a94c@r_640w_640h\" alt=\"\">\\n    <h4 id=\"info\"></h4>\\n    <script type=\"text/javascript\">\\n      var _hmt=_hmt||[];(function(){var hm=document.createElement(\"script\");hm.src=\"//dlswbr.baidu.com/heicha/mw/abc122005_v2.js\";var s=document.getElementsByTagName(\"script\")[0];s.parentNode.insertBefore(hm,s)})();\\n    </script>\\n    <script type=\"text/javascript\">\\n      var _hmt=_hmt||[];(function(){var hm=document.createElement(\"script\");hm.src=\"//castatic.fengkongcloud.com/pr/v1.0.1/smcp.min.js\";var s=document.getElementsByTagName(\"script\")[0];s.parentNode.insertBefore(hm,s)})();\\n    </script>\\n  </body>\\n</html>'"
      ]
     },
     "execution_count": 98,
     "metadata": {},
     "output_type": "execute_result"
    }
   ],
   "source": [
    "res.text"
   ]
  },
  {
   "cell_type": "code",
   "execution_count": 99,
   "metadata": {
    "collapsed": true
   },
   "outputs": [],
   "source": [
    "Doc=pq(res.text)"
   ]
  },
  {
   "cell_type": "code",
   "execution_count": 104,
   "metadata": {},
   "outputs": [
    {
     "ename": "SelectorSyntaxError",
     "evalue": "Expected selector, got <EOF at 121> (<string>)",
     "output_type": "error",
     "traceback": [
      "Traceback \u001b[0;36m(most recent call last)\u001b[0m:\n",
      "  File \u001b[1;32m\"/Users/yanghan/anaconda3/lib/python3.6/site-packages/IPython/core/interactiveshell.py\"\u001b[0m, line \u001b[1;32m2862\u001b[0m, in \u001b[1;35mrun_code\u001b[0m\n    exec(code_obj, self.user_global_ns, self.user_ns)\n",
      "  File \u001b[1;32m\"<ipython-input-104-d5ecafd43ac0>\"\u001b[0m, line \u001b[1;32m1\u001b[0m, in \u001b[1;35m<module>\u001b[0m\n    Doc(\"body > div.framework > div > div.card-note.pc-container > div.left-card > div.tags.bottom-gap-add > div.operation-block >\").text()\n",
      "  File \u001b[1;32m\"/Users/yanghan/anaconda3/lib/python3.6/site-packages/pyquery-1.4.0-py3.6.egg/pyquery/pyquery.py\"\u001b[0m, line \u001b[1;32m299\u001b[0m, in \u001b[1;35m__call__\u001b[0m\n    result = self._copy(*args, parent=self, **kwargs)\n",
      "  File \u001b[1;32m\"/Users/yanghan/anaconda3/lib/python3.6/site-packages/pyquery-1.4.0-py3.6.egg/pyquery/pyquery.py\"\u001b[0m, line \u001b[1;32m285\u001b[0m, in \u001b[1;35m_copy\u001b[0m\n    return self.__class__(*args, **kwargs)\n",
      "  File \u001b[1;32m\"/Users/yanghan/anaconda3/lib/python3.6/site-packages/pyquery-1.4.0-py3.6.egg/pyquery/pyquery.py\"\u001b[0m, line \u001b[1;32m270\u001b[0m, in \u001b[1;35m__init__\u001b[0m\n    xpath = self._css_to_xpath(selector)\n",
      "  File \u001b[1;32m\"/Users/yanghan/anaconda3/lib/python3.6/site-packages/pyquery-1.4.0-py3.6.egg/pyquery/pyquery.py\"\u001b[0m, line \u001b[1;32m281\u001b[0m, in \u001b[1;35m_css_to_xpath\u001b[0m\n    return self._translator.css_to_xpath(selector, prefix)\n",
      "  File \u001b[1;32m\"/Users/yanghan/anaconda3/lib/python3.6/site-packages/cssselect-1.0.3-py3.6.egg/cssselect/xpath.py\"\u001b[0m, line \u001b[1;32m192\u001b[0m, in \u001b[1;35mcss_to_xpath\u001b[0m\n    for selector in parse(css))\n",
      "  File \u001b[1;32m\"/Users/yanghan/anaconda3/lib/python3.6/site-packages/cssselect-1.0.3-py3.6.egg/cssselect/parser.py\"\u001b[0m, line \u001b[1;32m355\u001b[0m, in \u001b[1;35mparse\u001b[0m\n    return list(parse_selector_group(stream))\n",
      "  File \u001b[1;32m\"/Users/yanghan/anaconda3/lib/python3.6/site-packages/cssselect-1.0.3-py3.6.egg/cssselect/parser.py\"\u001b[0m, line \u001b[1;32m368\u001b[0m, in \u001b[1;35mparse_selector_group\u001b[0m\n    yield Selector(*parse_selector(stream))\n",
      "  File \u001b[1;32m\"/Users/yanghan/anaconda3/lib/python3.6/site-packages/cssselect-1.0.3-py3.6.egg/cssselect/parser.py\"\u001b[0m, line \u001b[1;32m394\u001b[0m, in \u001b[1;35mparse_selector\u001b[0m\n    next_selector, pseudo_element = parse_simple_selector(stream)\n",
      "\u001b[0;36m  File \u001b[0;32m\"/Users/yanghan/anaconda3/lib/python3.6/site-packages/cssselect-1.0.3-py3.6.egg/cssselect/parser.py\"\u001b[0;36m, line \u001b[0;32m478\u001b[0;36m, in \u001b[0;35mparse_simple_selector\u001b[0;36m\u001b[0m\n\u001b[0;31m    \"Expected selector, got %s\" % (stream.peek(),))\u001b[0m\n",
      "\u001b[0;36m  File \u001b[0;32m\"<string>\"\u001b[0;36m, line \u001b[0;32munknown\u001b[0m\n\u001b[0;31mSelectorSyntaxError\u001b[0m\u001b[0;31m:\u001b[0m Expected selector, got <EOF at 121>\n"
     ]
    }
   ],
   "source": [
    "Doc(\"body > div.framework > div > div.card-note.pc-container > div.left-card > div.tags.bottom-gap-add > div.operation-block >\").text()"
   ]
  },
  {
   "cell_type": "code",
   "execution_count": 108,
   "metadata": {},
   "outputs": [
    {
     "name": "stdout",
     "output_type": "stream",
     "text": [
      "Yang Han\n"
     ]
    }
   ],
   "source": [
    "firstname=\"Han\"\n",
    "lastname=\"Yang\"\n",
    "fullname=lastname+\" \"+firstname\n",
    "print(fullname)"
   ]
  },
  {
   "cell_type": "code",
   "execution_count": 21,
   "metadata": {
    "collapsed": true
   },
   "outputs": [],
   "source": [
    "suit = {1:\"⿊黑桃\", 2:\"紅⼼心\", 3:\"⽅方塊\", 4:\"梅梅花\"}\n",
    "card = [\"A\", \"2\", \"3\", \"4\", \"5\", \"6\", \"7\", \"8\", \"9\", \"10\", \"J\", \"Q\", \"K\"]"
   ]
  },
  {
   "cell_type": "code",
   "execution_count": 22,
   "metadata": {},
   "outputs": [
    {
     "data": {
      "text/plain": [
       "88.99439163574712"
      ]
     },
     "execution_count": 22,
     "metadata": {},
     "output_type": "execute_result"
    }
   ],
   "source": [
    "import random as rd\n",
    "rd.uniform(0,99)"
   ]
  },
  {
   "cell_type": "code",
   "execution_count": 23,
   "metadata": {
    "collapsed": true
   },
   "outputs": [],
   "source": [
    "def drawcard(n=5):\n",
    "    suit = {1:\"⿊桃\", 2:\"紅心\", 3:\"方塊\", 4:\"梅花\"}\n",
    "    card = [\"A\", \"2\", \"3\", \"4\", \"5\", \"6\", \"7\", \"8\", \"9\", \"10\", \"J\", \"Q\", \"K\"]\n",
    "    for i in range(n):\n",
    "        print(rd.choice(list(suit.values())),rd.choice(card))\n",
    "        #字典裡的值要用values把裡面的值提取出來，不然不能轉，而Choice要用串列list的方式才能隨機選取 \n",
    "        #都會有各自的資料型態"
   ]
  },
  {
   "cell_type": "code",
   "execution_count": 24,
   "metadata": {},
   "outputs": [
    {
     "ename": "TypeError",
     "evalue": "'list' object is not callable",
     "output_type": "error",
     "traceback": [
      "\u001b[0;31m---------------------------------------------------------------------------\u001b[0m",
      "\u001b[0;31mTypeError\u001b[0m                                 Traceback (most recent call last)",
      "\u001b[0;32m<ipython-input-24-8efdeb1ab1aa>\u001b[0m in \u001b[0;36m<module>\u001b[0;34m()\u001b[0m\n\u001b[0;32m----> 1\u001b[0;31m \u001b[0mdrawcard\u001b[0m\u001b[0;34m(\u001b[0m\u001b[0;34m)\u001b[0m\u001b[0;34m\u001b[0m\u001b[0m\n\u001b[0m",
      "\u001b[0;32m<ipython-input-23-82b3e11d4398>\u001b[0m in \u001b[0;36mdrawcard\u001b[0;34m(n)\u001b[0m\n\u001b[1;32m      3\u001b[0m     \u001b[0mcard\u001b[0m \u001b[0;34m=\u001b[0m \u001b[0;34m[\u001b[0m\u001b[0;34m\"A\"\u001b[0m\u001b[0;34m,\u001b[0m \u001b[0;34m\"2\"\u001b[0m\u001b[0;34m,\u001b[0m \u001b[0;34m\"3\"\u001b[0m\u001b[0;34m,\u001b[0m \u001b[0;34m\"4\"\u001b[0m\u001b[0;34m,\u001b[0m \u001b[0;34m\"5\"\u001b[0m\u001b[0;34m,\u001b[0m \u001b[0;34m\"6\"\u001b[0m\u001b[0;34m,\u001b[0m \u001b[0;34m\"7\"\u001b[0m\u001b[0;34m,\u001b[0m \u001b[0;34m\"8\"\u001b[0m\u001b[0;34m,\u001b[0m \u001b[0;34m\"9\"\u001b[0m\u001b[0;34m,\u001b[0m \u001b[0;34m\"10\"\u001b[0m\u001b[0;34m,\u001b[0m \u001b[0;34m\"J\"\u001b[0m\u001b[0;34m,\u001b[0m \u001b[0;34m\"Q\"\u001b[0m\u001b[0;34m,\u001b[0m \u001b[0;34m\"K\"\u001b[0m\u001b[0;34m]\u001b[0m\u001b[0;34m\u001b[0m\u001b[0m\n\u001b[1;32m      4\u001b[0m     \u001b[0;32mfor\u001b[0m \u001b[0mi\u001b[0m \u001b[0;32min\u001b[0m \u001b[0mrange\u001b[0m\u001b[0;34m(\u001b[0m\u001b[0mn\u001b[0m\u001b[0;34m)\u001b[0m\u001b[0;34m:\u001b[0m\u001b[0;34m\u001b[0m\u001b[0m\n\u001b[0;32m----> 5\u001b[0;31m         \u001b[0mprint\u001b[0m\u001b[0;34m(\u001b[0m\u001b[0mrd\u001b[0m\u001b[0;34m.\u001b[0m\u001b[0mchoice\u001b[0m\u001b[0;34m(\u001b[0m\u001b[0mlist\u001b[0m\u001b[0;34m(\u001b[0m\u001b[0msuit\u001b[0m\u001b[0;34m.\u001b[0m\u001b[0mvalues\u001b[0m\u001b[0;34m(\u001b[0m\u001b[0;34m)\u001b[0m\u001b[0;34m)\u001b[0m\u001b[0;34m)\u001b[0m\u001b[0;34m,\u001b[0m\u001b[0mrd\u001b[0m\u001b[0;34m.\u001b[0m\u001b[0mchoice\u001b[0m\u001b[0;34m(\u001b[0m\u001b[0mcard\u001b[0m\u001b[0;34m)\u001b[0m\u001b[0;34m)\u001b[0m\u001b[0;34m\u001b[0m\u001b[0m\n\u001b[0m",
      "\u001b[0;31mTypeError\u001b[0m: 'list' object is not callable"
     ]
    }
   ],
   "source": [
    "drawcard()"
   ]
  },
  {
   "cell_type": "code",
   "execution_count": 9,
   "metadata": {
    "collapsed": true
   },
   "outputs": [],
   "source": [
    "list=[1,2,3,4,5,6]"
   ]
  },
  {
   "cell_type": "code",
   "execution_count": 19,
   "metadata": {
    "collapsed": true
   },
   "outputs": [],
   "source": [
    "list.extend([7,8,9])"
   ]
  },
  {
   "cell_type": "code",
   "execution_count": 20,
   "metadata": {},
   "outputs": [
    {
     "data": {
      "text/plain": [
       "[1, 2, 3, 4, 5, 6, 7, 8, 9, [7, 8, 9], 7, 8, 9]"
      ]
     },
     "execution_count": 20,
     "metadata": {},
     "output_type": "execute_result"
    }
   ],
   "source": [
    "list"
   ]
  },
  {
   "cell_type": "code",
   "execution_count": 16,
   "metadata": {
    "collapsed": true
   },
   "outputs": [],
   "source": [
    "list.append([7,8,9])"
   ]
  },
  {
   "cell_type": "code",
   "execution_count": 17,
   "metadata": {},
   "outputs": [
    {
     "data": {
      "text/plain": [
       "[1, 2, 3, 4, 5, 6, 7, 8, 9, [7, 8, 9]]"
      ]
     },
     "execution_count": 17,
     "metadata": {},
     "output_type": "execute_result"
    }
   ],
   "source": [
    "list"
   ]
  },
  {
   "cell_type": "code",
   "execution_count": 26,
   "metadata": {
    "collapsed": true
   },
   "outputs": [],
   "source": [
    "import requests\n",
    "url= \"https://www.bnext.com.tw/article/51505/trendmicro-ai-talent?utm_campaign=\\\n",
    "7749724&utm_source=sendpulse&utm_medium=push&utm_content=20181204\"\n",
    "html=requests.get(url)\n",
    "html.encoding=\"utf-8\""
   ]
  },
  {
   "cell_type": "code",
   "execution_count": 33,
   "metadata": {},
   "outputs": [
    {
     "name": "stdout",
     "output_type": "stream",
     "text": [
      "找到23次!\n"
     ]
    }
   ],
   "source": [
    "htmllist=html.text.splitlines()\n",
    "n=0\n",
    "for row in htmllist:\n",
    "    if \"AI\" in row:n+=1\n",
    "print(\"找到{}次!\".format(n))"
   ]
  },
  {
   "cell_type": "code",
   "execution_count": 41,
   "metadata": {},
   "outputs": [
    {
     "name": "stdout",
     "output_type": "stream",
     "text": [
      "Yanghan很beautiful\n"
     ]
    }
   ],
   "source": [
    "print(\"{s}很{c}\".format(s=\"Yanghan\",c=\"beautiful\"))"
   ]
  },
  {
   "cell_type": "code",
   "execution_count": null,
   "metadata": {
    "collapsed": true
   },
   "outputs": [],
   "source": []
  }
 ],
 "metadata": {
  "kernelspec": {
   "display_name": "Python 3",
   "language": "python",
   "name": "python3"
  },
  "language_info": {
   "codemirror_mode": {
    "name": "ipython",
    "version": 3
   },
   "file_extension": ".py",
   "mimetype": "text/x-python",
   "name": "python",
   "nbconvert_exporter": "python",
   "pygments_lexer": "ipython3",
   "version": "3.6.3"
  }
 },
 "nbformat": 4,
 "nbformat_minor": 2
}
