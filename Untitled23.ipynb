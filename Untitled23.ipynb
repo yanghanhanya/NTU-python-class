{
 "cells": [
  {
   "cell_type": "code",
   "execution_count": 1,
   "metadata": {},
   "outputs": [
    {
     "data": {
      "text/plain": [
       "'<h2>Tell me your name!</h2>\\n<form method=\"post\" action=\"processing.php\">\\nFirst name: <input type=\"text\" name=\"firstname\"><br>\\nLast name: <input type=\"text\" name=\"lastname\"><br>\\n<input type=\"submit\" value=\"Submit\" id=\"submit\">\\n</form>'"
      ]
     },
     "execution_count": 1,
     "metadata": {},
     "output_type": "execute_result"
    }
   ],
   "source": [
    "import requests\n",
    "params = {\"firstname\": \"Yang\",\"lastname\": \"Han\"}\n",
    "res= requests.post(url=\"http://pythonscraping.com/pages/files/form.html\",data=params)\n",
    "res.text\n"
   ]
  },
  {
   "cell_type": "code",
   "execution_count": null,
   "metadata": {
    "collapsed": true
   },
   "outputs": [],
   "source": []
  }
 ],
 "metadata": {
  "kernelspec": {
   "display_name": "Python 3",
   "language": "python",
   "name": "python3"
  },
  "language_info": {
   "codemirror_mode": {
    "name": "ipython",
    "version": 3
   },
   "file_extension": ".py",
   "mimetype": "text/x-python",
   "name": "python",
   "nbconvert_exporter": "python",
   "pygments_lexer": "ipython3",
   "version": "3.6.3"
  }
 },
 "nbformat": 4,
 "nbformat_minor": 2
}
